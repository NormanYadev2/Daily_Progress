{
  "nbformat": 4,
  "nbformat_minor": 0,
  "metadata": {
    "colab": {
      "provenance": []
    },
    "kernelspec": {
      "name": "python3",
      "display_name": "Python 3"
    },
    "language_info": {
      "name": "python"
    }
  },
  "cells": [
    {
      "cell_type": "markdown",
      "source": [
        "#1: Load a CSV file using Pandas and print the first 5 rows."
      ],
      "metadata": {
        "id": "HGqoyxbE7FDK"
      }
    },
    {
      "cell_type": "code",
      "source": [
        "import pandas as pd\n",
        "df = pd.read_csv(\"dummy_churn_data.csv\")\n",
        "df.head()"
      ],
      "metadata": {
        "colab": {
          "base_uri": "https://localhost:8080/",
          "height": 206
        },
        "id": "-nlL4Wec7JOL",
        "outputId": "f6d12e40-a9de-48b6-910c-56cf52e74504"
      },
      "execution_count": null,
      "outputs": [
        {
          "output_type": "execute_result",
          "data": {
            "text/plain": [
              "   total_day_charge  total_eve_charge  churn\n",
              "0             31.24             22.24      0\n",
              "1             48.52             12.79      1\n",
              "2             41.96             15.84      0\n",
              "3             37.96             17.33      1\n",
              "4             24.68             19.12      0"
            ],
            "text/html": [
              "\n",
              "  <div id=\"df-5b8ecf28-4181-4ec8-8cd9-deabf8d7580a\" class=\"colab-df-container\">\n",
              "    <div>\n",
              "<style scoped>\n",
              "    .dataframe tbody tr th:only-of-type {\n",
              "        vertical-align: middle;\n",
              "    }\n",
              "\n",
              "    .dataframe tbody tr th {\n",
              "        vertical-align: top;\n",
              "    }\n",
              "\n",
              "    .dataframe thead th {\n",
              "        text-align: right;\n",
              "    }\n",
              "</style>\n",
              "<table border=\"1\" class=\"dataframe\">\n",
              "  <thead>\n",
              "    <tr style=\"text-align: right;\">\n",
              "      <th></th>\n",
              "      <th>total_day_charge</th>\n",
              "      <th>total_eve_charge</th>\n",
              "      <th>churn</th>\n",
              "    </tr>\n",
              "  </thead>\n",
              "  <tbody>\n",
              "    <tr>\n",
              "      <th>0</th>\n",
              "      <td>31.24</td>\n",
              "      <td>22.24</td>\n",
              "      <td>0</td>\n",
              "    </tr>\n",
              "    <tr>\n",
              "      <th>1</th>\n",
              "      <td>48.52</td>\n",
              "      <td>12.79</td>\n",
              "      <td>1</td>\n",
              "    </tr>\n",
              "    <tr>\n",
              "      <th>2</th>\n",
              "      <td>41.96</td>\n",
              "      <td>15.84</td>\n",
              "      <td>0</td>\n",
              "    </tr>\n",
              "    <tr>\n",
              "      <th>3</th>\n",
              "      <td>37.96</td>\n",
              "      <td>17.33</td>\n",
              "      <td>1</td>\n",
              "    </tr>\n",
              "    <tr>\n",
              "      <th>4</th>\n",
              "      <td>24.68</td>\n",
              "      <td>19.12</td>\n",
              "      <td>0</td>\n",
              "    </tr>\n",
              "  </tbody>\n",
              "</table>\n",
              "</div>\n",
              "    <div class=\"colab-df-buttons\">\n",
              "\n",
              "  <div class=\"colab-df-container\">\n",
              "    <button class=\"colab-df-convert\" onclick=\"convertToInteractive('df-5b8ecf28-4181-4ec8-8cd9-deabf8d7580a')\"\n",
              "            title=\"Convert this dataframe to an interactive table.\"\n",
              "            style=\"display:none;\">\n",
              "\n",
              "  <svg xmlns=\"http://www.w3.org/2000/svg\" height=\"24px\" viewBox=\"0 -960 960 960\">\n",
              "    <path d=\"M120-120v-720h720v720H120Zm60-500h600v-160H180v160Zm220 220h160v-160H400v160Zm0 220h160v-160H400v160ZM180-400h160v-160H180v160Zm440 0h160v-160H620v160ZM180-180h160v-160H180v160Zm440 0h160v-160H620v160Z\"/>\n",
              "  </svg>\n",
              "    </button>\n",
              "\n",
              "  <style>\n",
              "    .colab-df-container {\n",
              "      display:flex;\n",
              "      gap: 12px;\n",
              "    }\n",
              "\n",
              "    .colab-df-convert {\n",
              "      background-color: #E8F0FE;\n",
              "      border: none;\n",
              "      border-radius: 50%;\n",
              "      cursor: pointer;\n",
              "      display: none;\n",
              "      fill: #1967D2;\n",
              "      height: 32px;\n",
              "      padding: 0 0 0 0;\n",
              "      width: 32px;\n",
              "    }\n",
              "\n",
              "    .colab-df-convert:hover {\n",
              "      background-color: #E2EBFA;\n",
              "      box-shadow: 0px 1px 2px rgba(60, 64, 67, 0.3), 0px 1px 3px 1px rgba(60, 64, 67, 0.15);\n",
              "      fill: #174EA6;\n",
              "    }\n",
              "\n",
              "    .colab-df-buttons div {\n",
              "      margin-bottom: 4px;\n",
              "    }\n",
              "\n",
              "    [theme=dark] .colab-df-convert {\n",
              "      background-color: #3B4455;\n",
              "      fill: #D2E3FC;\n",
              "    }\n",
              "\n",
              "    [theme=dark] .colab-df-convert:hover {\n",
              "      background-color: #434B5C;\n",
              "      box-shadow: 0px 1px 3px 1px rgba(0, 0, 0, 0.15);\n",
              "      filter: drop-shadow(0px 1px 2px rgba(0, 0, 0, 0.3));\n",
              "      fill: #FFFFFF;\n",
              "    }\n",
              "  </style>\n",
              "\n",
              "    <script>\n",
              "      const buttonEl =\n",
              "        document.querySelector('#df-5b8ecf28-4181-4ec8-8cd9-deabf8d7580a button.colab-df-convert');\n",
              "      buttonEl.style.display =\n",
              "        google.colab.kernel.accessAllowed ? 'block' : 'none';\n",
              "\n",
              "      async function convertToInteractive(key) {\n",
              "        const element = document.querySelector('#df-5b8ecf28-4181-4ec8-8cd9-deabf8d7580a');\n",
              "        const dataTable =\n",
              "          await google.colab.kernel.invokeFunction('convertToInteractive',\n",
              "                                                    [key], {});\n",
              "        if (!dataTable) return;\n",
              "\n",
              "        const docLinkHtml = 'Like what you see? Visit the ' +\n",
              "          '<a target=\"_blank\" href=https://colab.research.google.com/notebooks/data_table.ipynb>data table notebook</a>'\n",
              "          + ' to learn more about interactive tables.';\n",
              "        element.innerHTML = '';\n",
              "        dataTable['output_type'] = 'display_data';\n",
              "        await google.colab.output.renderOutput(dataTable, element);\n",
              "        const docLink = document.createElement('div');\n",
              "        docLink.innerHTML = docLinkHtml;\n",
              "        element.appendChild(docLink);\n",
              "      }\n",
              "    </script>\n",
              "  </div>\n",
              "\n",
              "\n",
              "    <div id=\"df-0c4d1e38-74f4-4b44-b963-715f1e30475e\">\n",
              "      <button class=\"colab-df-quickchart\" onclick=\"quickchart('df-0c4d1e38-74f4-4b44-b963-715f1e30475e')\"\n",
              "                title=\"Suggest charts\"\n",
              "                style=\"display:none;\">\n",
              "\n",
              "<svg xmlns=\"http://www.w3.org/2000/svg\" height=\"24px\"viewBox=\"0 0 24 24\"\n",
              "     width=\"24px\">\n",
              "    <g>\n",
              "        <path d=\"M19 3H5c-1.1 0-2 .9-2 2v14c0 1.1.9 2 2 2h14c1.1 0 2-.9 2-2V5c0-1.1-.9-2-2-2zM9 17H7v-7h2v7zm4 0h-2V7h2v10zm4 0h-2v-4h2v4z\"/>\n",
              "    </g>\n",
              "</svg>\n",
              "      </button>\n",
              "\n",
              "<style>\n",
              "  .colab-df-quickchart {\n",
              "      --bg-color: #E8F0FE;\n",
              "      --fill-color: #1967D2;\n",
              "      --hover-bg-color: #E2EBFA;\n",
              "      --hover-fill-color: #174EA6;\n",
              "      --disabled-fill-color: #AAA;\n",
              "      --disabled-bg-color: #DDD;\n",
              "  }\n",
              "\n",
              "  [theme=dark] .colab-df-quickchart {\n",
              "      --bg-color: #3B4455;\n",
              "      --fill-color: #D2E3FC;\n",
              "      --hover-bg-color: #434B5C;\n",
              "      --hover-fill-color: #FFFFFF;\n",
              "      --disabled-bg-color: #3B4455;\n",
              "      --disabled-fill-color: #666;\n",
              "  }\n",
              "\n",
              "  .colab-df-quickchart {\n",
              "    background-color: var(--bg-color);\n",
              "    border: none;\n",
              "    border-radius: 50%;\n",
              "    cursor: pointer;\n",
              "    display: none;\n",
              "    fill: var(--fill-color);\n",
              "    height: 32px;\n",
              "    padding: 0;\n",
              "    width: 32px;\n",
              "  }\n",
              "\n",
              "  .colab-df-quickchart:hover {\n",
              "    background-color: var(--hover-bg-color);\n",
              "    box-shadow: 0 1px 2px rgba(60, 64, 67, 0.3), 0 1px 3px 1px rgba(60, 64, 67, 0.15);\n",
              "    fill: var(--button-hover-fill-color);\n",
              "  }\n",
              "\n",
              "  .colab-df-quickchart-complete:disabled,\n",
              "  .colab-df-quickchart-complete:disabled:hover {\n",
              "    background-color: var(--disabled-bg-color);\n",
              "    fill: var(--disabled-fill-color);\n",
              "    box-shadow: none;\n",
              "  }\n",
              "\n",
              "  .colab-df-spinner {\n",
              "    border: 2px solid var(--fill-color);\n",
              "    border-color: transparent;\n",
              "    border-bottom-color: var(--fill-color);\n",
              "    animation:\n",
              "      spin 1s steps(1) infinite;\n",
              "  }\n",
              "\n",
              "  @keyframes spin {\n",
              "    0% {\n",
              "      border-color: transparent;\n",
              "      border-bottom-color: var(--fill-color);\n",
              "      border-left-color: var(--fill-color);\n",
              "    }\n",
              "    20% {\n",
              "      border-color: transparent;\n",
              "      border-left-color: var(--fill-color);\n",
              "      border-top-color: var(--fill-color);\n",
              "    }\n",
              "    30% {\n",
              "      border-color: transparent;\n",
              "      border-left-color: var(--fill-color);\n",
              "      border-top-color: var(--fill-color);\n",
              "      border-right-color: var(--fill-color);\n",
              "    }\n",
              "    40% {\n",
              "      border-color: transparent;\n",
              "      border-right-color: var(--fill-color);\n",
              "      border-top-color: var(--fill-color);\n",
              "    }\n",
              "    60% {\n",
              "      border-color: transparent;\n",
              "      border-right-color: var(--fill-color);\n",
              "    }\n",
              "    80% {\n",
              "      border-color: transparent;\n",
              "      border-right-color: var(--fill-color);\n",
              "      border-bottom-color: var(--fill-color);\n",
              "    }\n",
              "    90% {\n",
              "      border-color: transparent;\n",
              "      border-bottom-color: var(--fill-color);\n",
              "    }\n",
              "  }\n",
              "</style>\n",
              "\n",
              "      <script>\n",
              "        async function quickchart(key) {\n",
              "          const quickchartButtonEl =\n",
              "            document.querySelector('#' + key + ' button');\n",
              "          quickchartButtonEl.disabled = true;  // To prevent multiple clicks.\n",
              "          quickchartButtonEl.classList.add('colab-df-spinner');\n",
              "          try {\n",
              "            const charts = await google.colab.kernel.invokeFunction(\n",
              "                'suggestCharts', [key], {});\n",
              "          } catch (error) {\n",
              "            console.error('Error during call to suggestCharts:', error);\n",
              "          }\n",
              "          quickchartButtonEl.classList.remove('colab-df-spinner');\n",
              "          quickchartButtonEl.classList.add('colab-df-quickchart-complete');\n",
              "        }\n",
              "        (() => {\n",
              "          let quickchartButtonEl =\n",
              "            document.querySelector('#df-0c4d1e38-74f4-4b44-b963-715f1e30475e button');\n",
              "          quickchartButtonEl.style.display =\n",
              "            google.colab.kernel.accessAllowed ? 'block' : 'none';\n",
              "        })();\n",
              "      </script>\n",
              "    </div>\n",
              "\n",
              "    </div>\n",
              "  </div>\n"
            ],
            "application/vnd.google.colaboratory.intrinsic+json": {
              "type": "dataframe",
              "variable_name": "df",
              "summary": "{\n  \"name\": \"df\",\n  \"rows\": 20,\n  \"fields\": [\n    {\n      \"column\": \"total_day_charge\",\n      \"properties\": {\n        \"dtype\": \"number\",\n        \"std\": 9.230764865383584,\n        \"min\": 20.62,\n        \"max\": 49.1,\n        \"num_unique_values\": 19,\n        \"samples\": [\n          31.24,\n          21.74,\n          44.97\n        ],\n        \"semantic_type\": \"\",\n        \"description\": \"\"\n      }\n    },\n    {\n      \"column\": \"total_eve_charge\",\n      \"properties\": {\n        \"dtype\": \"number\",\n        \"std\": 5.8238307839428165,\n        \"min\": 10.93,\n        \"max\": 29.31,\n        \"num_unique_values\": 20,\n        \"samples\": [\n          22.24,\n          11.95,\n          26.17\n        ],\n        \"semantic_type\": \"\",\n        \"description\": \"\"\n      }\n    },\n    {\n      \"column\": \"churn\",\n      \"properties\": {\n        \"dtype\": \"number\",\n        \"std\": 0,\n        \"min\": 0,\n        \"max\": 1,\n        \"num_unique_values\": 2,\n        \"samples\": [\n          1,\n          0\n        ],\n        \"semantic_type\": \"\",\n        \"description\": \"\"\n      }\n    }\n  ]\n}"
            }
          },
          "metadata": {},
          "execution_count": 3
        }
      ]
    },
    {
      "cell_type": "markdown",
      "source": [
        "#2: Check missing values in churn and drop if any"
      ],
      "metadata": {
        "id": "DjTF2R259G-1"
      }
    },
    {
      "cell_type": "code",
      "source": [
        "import pandas as pd\n",
        "df = pd.read_csv(\"dummy_churn_data.csv\")\n",
        "\n",
        "#Check for Missing Values\n",
        "print(df[\"churn\"].isnull().sum())\n",
        "\n",
        "#Dropping Missing values\n",
        "df.dropna(subset=[\"churn\"],inplace=True)\n",
        "\n",
        "\n"
      ],
      "metadata": {
        "colab": {
          "base_uri": "https://localhost:8080/"
        },
        "id": "3saxGUKH96xC",
        "outputId": "25018875-69af-4a72-8157-907fdc8916c9"
      },
      "execution_count": null,
      "outputs": [
        {
          "output_type": "stream",
          "name": "stdout",
          "text": [
            "0\n",
            "0     False\n",
            "1     False\n",
            "2     False\n",
            "3     False\n",
            "4     False\n",
            "5     False\n",
            "6     False\n",
            "7     False\n",
            "8     False\n",
            "9     False\n",
            "10    False\n",
            "11    False\n",
            "12    False\n",
            "13    False\n",
            "14    False\n",
            "15    False\n",
            "16    False\n",
            "17    False\n",
            "18    False\n",
            "19    False\n",
            "Name: churn, dtype: bool\n"
          ]
        }
      ]
    },
    {
      "cell_type": "markdown",
      "source": [
        "#3: Remove Duplicates"
      ],
      "metadata": {
        "id": "9oyeB8-KMmtb"
      }
    },
    {
      "cell_type": "code",
      "source": [
        "data = {'Name':['Alice','Bob','Alice','Charlie'],'Age':[25,30,25,35]}\n",
        "df = pd.DataFrame(data)\n",
        "print(f\"Original DataFrame \\n\\n {df.head()}\\n\")\n",
        "\n",
        "\n",
        "df_cleaned = df.drop_duplicates()\n",
        "print(f\"Removed Duplicates \\n\\n {df_cleaned.head()}\")"
      ],
      "metadata": {
        "colab": {
          "base_uri": "https://localhost:8080/"
        },
        "id": "I9mNW5FGMo-0",
        "outputId": "c69fe64c-82e3-45ee-e74c-01a8bcc24258"
      },
      "execution_count": null,
      "outputs": [
        {
          "output_type": "stream",
          "name": "stdout",
          "text": [
            "Original DataFrame \n",
            "\n",
            "       Name  Age\n",
            "0    Alice   25\n",
            "1      Bob   30\n",
            "2    Alice   25\n",
            "3  Charlie   35\n",
            "\n",
            "Removed Duplicates \n",
            "\n",
            "       Name  Age\n",
            "0    Alice   25\n",
            "1      Bob   30\n",
            "3  Charlie   35\n"
          ]
        }
      ]
    },
    {
      "cell_type": "markdown",
      "source": [
        "#4: Handle Missing Values"
      ],
      "metadata": {
        "id": "ZIVBn1guAvjd"
      }
    },
    {
      "cell_type": "code",
      "source": [
        "data = {'Name':['Alice','Bob',None,'Charlie'],'Age':[25,None,25,35]}\n",
        "\n",
        "df = pd.DataFrame(data)\n",
        "print(\"Original Data\\n\")\n",
        "display(df)\n",
        "\n",
        "print(f\"\\nCleaned Data\\n\")\n",
        "cleaned_df = df.fillna({'Name':'Rajesh','Age':df['Age'].mean()})\n",
        "display(cleaned_df)"
      ],
      "metadata": {
        "colab": {
          "base_uri": "https://localhost:8080/",
          "height": 419
        },
        "id": "u3dFLtvxRaXL",
        "outputId": "24bcd3bd-ad5c-4d8f-a51f-a35cea6939f6"
      },
      "execution_count": null,
      "outputs": [
        {
          "output_type": "stream",
          "name": "stdout",
          "text": [
            "Original Data\n",
            "\n"
          ]
        },
        {
          "output_type": "display_data",
          "data": {
            "text/plain": [
              "      Name   Age\n",
              "0    Alice  25.0\n",
              "1      Bob   NaN\n",
              "2     None  25.0\n",
              "3  Charlie  35.0"
            ],
            "text/html": [
              "\n",
              "  <div id=\"df-b3987b37-5e12-412b-85aa-924c804fb5a7\" class=\"colab-df-container\">\n",
              "    <div>\n",
              "<style scoped>\n",
              "    .dataframe tbody tr th:only-of-type {\n",
              "        vertical-align: middle;\n",
              "    }\n",
              "\n",
              "    .dataframe tbody tr th {\n",
              "        vertical-align: top;\n",
              "    }\n",
              "\n",
              "    .dataframe thead th {\n",
              "        text-align: right;\n",
              "    }\n",
              "</style>\n",
              "<table border=\"1\" class=\"dataframe\">\n",
              "  <thead>\n",
              "    <tr style=\"text-align: right;\">\n",
              "      <th></th>\n",
              "      <th>Name</th>\n",
              "      <th>Age</th>\n",
              "    </tr>\n",
              "  </thead>\n",
              "  <tbody>\n",
              "    <tr>\n",
              "      <th>0</th>\n",
              "      <td>Alice</td>\n",
              "      <td>25.0</td>\n",
              "    </tr>\n",
              "    <tr>\n",
              "      <th>1</th>\n",
              "      <td>Bob</td>\n",
              "      <td>NaN</td>\n",
              "    </tr>\n",
              "    <tr>\n",
              "      <th>2</th>\n",
              "      <td>None</td>\n",
              "      <td>25.0</td>\n",
              "    </tr>\n",
              "    <tr>\n",
              "      <th>3</th>\n",
              "      <td>Charlie</td>\n",
              "      <td>35.0</td>\n",
              "    </tr>\n",
              "  </tbody>\n",
              "</table>\n",
              "</div>\n",
              "    <div class=\"colab-df-buttons\">\n",
              "\n",
              "  <div class=\"colab-df-container\">\n",
              "    <button class=\"colab-df-convert\" onclick=\"convertToInteractive('df-b3987b37-5e12-412b-85aa-924c804fb5a7')\"\n",
              "            title=\"Convert this dataframe to an interactive table.\"\n",
              "            style=\"display:none;\">\n",
              "\n",
              "  <svg xmlns=\"http://www.w3.org/2000/svg\" height=\"24px\" viewBox=\"0 -960 960 960\">\n",
              "    <path d=\"M120-120v-720h720v720H120Zm60-500h600v-160H180v160Zm220 220h160v-160H400v160Zm0 220h160v-160H400v160ZM180-400h160v-160H180v160Zm440 0h160v-160H620v160ZM180-180h160v-160H180v160Zm440 0h160v-160H620v160Z\"/>\n",
              "  </svg>\n",
              "    </button>\n",
              "\n",
              "  <style>\n",
              "    .colab-df-container {\n",
              "      display:flex;\n",
              "      gap: 12px;\n",
              "    }\n",
              "\n",
              "    .colab-df-convert {\n",
              "      background-color: #E8F0FE;\n",
              "      border: none;\n",
              "      border-radius: 50%;\n",
              "      cursor: pointer;\n",
              "      display: none;\n",
              "      fill: #1967D2;\n",
              "      height: 32px;\n",
              "      padding: 0 0 0 0;\n",
              "      width: 32px;\n",
              "    }\n",
              "\n",
              "    .colab-df-convert:hover {\n",
              "      background-color: #E2EBFA;\n",
              "      box-shadow: 0px 1px 2px rgba(60, 64, 67, 0.3), 0px 1px 3px 1px rgba(60, 64, 67, 0.15);\n",
              "      fill: #174EA6;\n",
              "    }\n",
              "\n",
              "    .colab-df-buttons div {\n",
              "      margin-bottom: 4px;\n",
              "    }\n",
              "\n",
              "    [theme=dark] .colab-df-convert {\n",
              "      background-color: #3B4455;\n",
              "      fill: #D2E3FC;\n",
              "    }\n",
              "\n",
              "    [theme=dark] .colab-df-convert:hover {\n",
              "      background-color: #434B5C;\n",
              "      box-shadow: 0px 1px 3px 1px rgba(0, 0, 0, 0.15);\n",
              "      filter: drop-shadow(0px 1px 2px rgba(0, 0, 0, 0.3));\n",
              "      fill: #FFFFFF;\n",
              "    }\n",
              "  </style>\n",
              "\n",
              "    <script>\n",
              "      const buttonEl =\n",
              "        document.querySelector('#df-b3987b37-5e12-412b-85aa-924c804fb5a7 button.colab-df-convert');\n",
              "      buttonEl.style.display =\n",
              "        google.colab.kernel.accessAllowed ? 'block' : 'none';\n",
              "\n",
              "      async function convertToInteractive(key) {\n",
              "        const element = document.querySelector('#df-b3987b37-5e12-412b-85aa-924c804fb5a7');\n",
              "        const dataTable =\n",
              "          await google.colab.kernel.invokeFunction('convertToInteractive',\n",
              "                                                    [key], {});\n",
              "        if (!dataTable) return;\n",
              "\n",
              "        const docLinkHtml = 'Like what you see? Visit the ' +\n",
              "          '<a target=\"_blank\" href=https://colab.research.google.com/notebooks/data_table.ipynb>data table notebook</a>'\n",
              "          + ' to learn more about interactive tables.';\n",
              "        element.innerHTML = '';\n",
              "        dataTable['output_type'] = 'display_data';\n",
              "        await google.colab.output.renderOutput(dataTable, element);\n",
              "        const docLink = document.createElement('div');\n",
              "        docLink.innerHTML = docLinkHtml;\n",
              "        element.appendChild(docLink);\n",
              "      }\n",
              "    </script>\n",
              "  </div>\n",
              "\n",
              "\n",
              "    <div id=\"df-04edf117-0a20-4887-8715-6a1138ca9138\">\n",
              "      <button class=\"colab-df-quickchart\" onclick=\"quickchart('df-04edf117-0a20-4887-8715-6a1138ca9138')\"\n",
              "                title=\"Suggest charts\"\n",
              "                style=\"display:none;\">\n",
              "\n",
              "<svg xmlns=\"http://www.w3.org/2000/svg\" height=\"24px\"viewBox=\"0 0 24 24\"\n",
              "     width=\"24px\">\n",
              "    <g>\n",
              "        <path d=\"M19 3H5c-1.1 0-2 .9-2 2v14c0 1.1.9 2 2 2h14c1.1 0 2-.9 2-2V5c0-1.1-.9-2-2-2zM9 17H7v-7h2v7zm4 0h-2V7h2v10zm4 0h-2v-4h2v4z\"/>\n",
              "    </g>\n",
              "</svg>\n",
              "      </button>\n",
              "\n",
              "<style>\n",
              "  .colab-df-quickchart {\n",
              "      --bg-color: #E8F0FE;\n",
              "      --fill-color: #1967D2;\n",
              "      --hover-bg-color: #E2EBFA;\n",
              "      --hover-fill-color: #174EA6;\n",
              "      --disabled-fill-color: #AAA;\n",
              "      --disabled-bg-color: #DDD;\n",
              "  }\n",
              "\n",
              "  [theme=dark] .colab-df-quickchart {\n",
              "      --bg-color: #3B4455;\n",
              "      --fill-color: #D2E3FC;\n",
              "      --hover-bg-color: #434B5C;\n",
              "      --hover-fill-color: #FFFFFF;\n",
              "      --disabled-bg-color: #3B4455;\n",
              "      --disabled-fill-color: #666;\n",
              "  }\n",
              "\n",
              "  .colab-df-quickchart {\n",
              "    background-color: var(--bg-color);\n",
              "    border: none;\n",
              "    border-radius: 50%;\n",
              "    cursor: pointer;\n",
              "    display: none;\n",
              "    fill: var(--fill-color);\n",
              "    height: 32px;\n",
              "    padding: 0;\n",
              "    width: 32px;\n",
              "  }\n",
              "\n",
              "  .colab-df-quickchart:hover {\n",
              "    background-color: var(--hover-bg-color);\n",
              "    box-shadow: 0 1px 2px rgba(60, 64, 67, 0.3), 0 1px 3px 1px rgba(60, 64, 67, 0.15);\n",
              "    fill: var(--button-hover-fill-color);\n",
              "  }\n",
              "\n",
              "  .colab-df-quickchart-complete:disabled,\n",
              "  .colab-df-quickchart-complete:disabled:hover {\n",
              "    background-color: var(--disabled-bg-color);\n",
              "    fill: var(--disabled-fill-color);\n",
              "    box-shadow: none;\n",
              "  }\n",
              "\n",
              "  .colab-df-spinner {\n",
              "    border: 2px solid var(--fill-color);\n",
              "    border-color: transparent;\n",
              "    border-bottom-color: var(--fill-color);\n",
              "    animation:\n",
              "      spin 1s steps(1) infinite;\n",
              "  }\n",
              "\n",
              "  @keyframes spin {\n",
              "    0% {\n",
              "      border-color: transparent;\n",
              "      border-bottom-color: var(--fill-color);\n",
              "      border-left-color: var(--fill-color);\n",
              "    }\n",
              "    20% {\n",
              "      border-color: transparent;\n",
              "      border-left-color: var(--fill-color);\n",
              "      border-top-color: var(--fill-color);\n",
              "    }\n",
              "    30% {\n",
              "      border-color: transparent;\n",
              "      border-left-color: var(--fill-color);\n",
              "      border-top-color: var(--fill-color);\n",
              "      border-right-color: var(--fill-color);\n",
              "    }\n",
              "    40% {\n",
              "      border-color: transparent;\n",
              "      border-right-color: var(--fill-color);\n",
              "      border-top-color: var(--fill-color);\n",
              "    }\n",
              "    60% {\n",
              "      border-color: transparent;\n",
              "      border-right-color: var(--fill-color);\n",
              "    }\n",
              "    80% {\n",
              "      border-color: transparent;\n",
              "      border-right-color: var(--fill-color);\n",
              "      border-bottom-color: var(--fill-color);\n",
              "    }\n",
              "    90% {\n",
              "      border-color: transparent;\n",
              "      border-bottom-color: var(--fill-color);\n",
              "    }\n",
              "  }\n",
              "</style>\n",
              "\n",
              "      <script>\n",
              "        async function quickchart(key) {\n",
              "          const quickchartButtonEl =\n",
              "            document.querySelector('#' + key + ' button');\n",
              "          quickchartButtonEl.disabled = true;  // To prevent multiple clicks.\n",
              "          quickchartButtonEl.classList.add('colab-df-spinner');\n",
              "          try {\n",
              "            const charts = await google.colab.kernel.invokeFunction(\n",
              "                'suggestCharts', [key], {});\n",
              "          } catch (error) {\n",
              "            console.error('Error during call to suggestCharts:', error);\n",
              "          }\n",
              "          quickchartButtonEl.classList.remove('colab-df-spinner');\n",
              "          quickchartButtonEl.classList.add('colab-df-quickchart-complete');\n",
              "        }\n",
              "        (() => {\n",
              "          let quickchartButtonEl =\n",
              "            document.querySelector('#df-04edf117-0a20-4887-8715-6a1138ca9138 button');\n",
              "          quickchartButtonEl.style.display =\n",
              "            google.colab.kernel.accessAllowed ? 'block' : 'none';\n",
              "        })();\n",
              "      </script>\n",
              "    </div>\n",
              "\n",
              "  <div id=\"id_a154a2c8-454c-4f59-a962-a8fe5ccfa564\">\n",
              "    <style>\n",
              "      .colab-df-generate {\n",
              "        background-color: #E8F0FE;\n",
              "        border: none;\n",
              "        border-radius: 50%;\n",
              "        cursor: pointer;\n",
              "        display: none;\n",
              "        fill: #1967D2;\n",
              "        height: 32px;\n",
              "        padding: 0 0 0 0;\n",
              "        width: 32px;\n",
              "      }\n",
              "\n",
              "      .colab-df-generate:hover {\n",
              "        background-color: #E2EBFA;\n",
              "        box-shadow: 0px 1px 2px rgba(60, 64, 67, 0.3), 0px 1px 3px 1px rgba(60, 64, 67, 0.15);\n",
              "        fill: #174EA6;\n",
              "      }\n",
              "\n",
              "      [theme=dark] .colab-df-generate {\n",
              "        background-color: #3B4455;\n",
              "        fill: #D2E3FC;\n",
              "      }\n",
              "\n",
              "      [theme=dark] .colab-df-generate:hover {\n",
              "        background-color: #434B5C;\n",
              "        box-shadow: 0px 1px 3px 1px rgba(0, 0, 0, 0.15);\n",
              "        filter: drop-shadow(0px 1px 2px rgba(0, 0, 0, 0.3));\n",
              "        fill: #FFFFFF;\n",
              "      }\n",
              "    </style>\n",
              "    <button class=\"colab-df-generate\" onclick=\"generateWithVariable('df')\"\n",
              "            title=\"Generate code using this dataframe.\"\n",
              "            style=\"display:none;\">\n",
              "\n",
              "  <svg xmlns=\"http://www.w3.org/2000/svg\" height=\"24px\"viewBox=\"0 0 24 24\"\n",
              "       width=\"24px\">\n",
              "    <path d=\"M7,19H8.4L18.45,9,17,7.55,7,17.6ZM5,21V16.75L18.45,3.32a2,2,0,0,1,2.83,0l1.4,1.43a1.91,1.91,0,0,1,.58,1.4,1.91,1.91,0,0,1-.58,1.4L9.25,21ZM18.45,9,17,7.55Zm-12,3A5.31,5.31,0,0,0,4.9,8.1,5.31,5.31,0,0,0,1,6.5,5.31,5.31,0,0,0,4.9,4.9,5.31,5.31,0,0,0,6.5,1,5.31,5.31,0,0,0,8.1,4.9,5.31,5.31,0,0,0,12,6.5,5.46,5.46,0,0,0,6.5,12Z\"/>\n",
              "  </svg>\n",
              "    </button>\n",
              "    <script>\n",
              "      (() => {\n",
              "      const buttonEl =\n",
              "        document.querySelector('#id_a154a2c8-454c-4f59-a962-a8fe5ccfa564 button.colab-df-generate');\n",
              "      buttonEl.style.display =\n",
              "        google.colab.kernel.accessAllowed ? 'block' : 'none';\n",
              "\n",
              "      buttonEl.onclick = () => {\n",
              "        google.colab.notebook.generateWithVariable('df');\n",
              "      }\n",
              "      })();\n",
              "    </script>\n",
              "  </div>\n",
              "\n",
              "    </div>\n",
              "  </div>\n"
            ],
            "application/vnd.google.colaboratory.intrinsic+json": {
              "type": "dataframe",
              "variable_name": "df",
              "summary": "{\n  \"name\": \"df\",\n  \"rows\": 4,\n  \"fields\": [\n    {\n      \"column\": \"Name\",\n      \"properties\": {\n        \"dtype\": \"string\",\n        \"num_unique_values\": 3,\n        \"samples\": [\n          \"Alice\",\n          \"Bob\",\n          \"Charlie\"\n        ],\n        \"semantic_type\": \"\",\n        \"description\": \"\"\n      }\n    },\n    {\n      \"column\": \"Age\",\n      \"properties\": {\n        \"dtype\": \"number\",\n        \"std\": 5.773502691896257,\n        \"min\": 25.0,\n        \"max\": 35.0,\n        \"num_unique_values\": 2,\n        \"samples\": [\n          35.0,\n          25.0\n        ],\n        \"semantic_type\": \"\",\n        \"description\": \"\"\n      }\n    }\n  ]\n}"
            }
          },
          "metadata": {}
        },
        {
          "output_type": "stream",
          "name": "stdout",
          "text": [
            "\n",
            "Cleaned Data\n",
            "\n"
          ]
        },
        {
          "output_type": "display_data",
          "data": {
            "text/plain": [
              "      Name        Age\n",
              "0    Alice  25.000000\n",
              "1      Bob  28.333333\n",
              "2   Rajesh  25.000000\n",
              "3  Charlie  35.000000"
            ],
            "text/html": [
              "\n",
              "  <div id=\"df-65f52c66-01ba-4639-8166-51c75ee7a534\" class=\"colab-df-container\">\n",
              "    <div>\n",
              "<style scoped>\n",
              "    .dataframe tbody tr th:only-of-type {\n",
              "        vertical-align: middle;\n",
              "    }\n",
              "\n",
              "    .dataframe tbody tr th {\n",
              "        vertical-align: top;\n",
              "    }\n",
              "\n",
              "    .dataframe thead th {\n",
              "        text-align: right;\n",
              "    }\n",
              "</style>\n",
              "<table border=\"1\" class=\"dataframe\">\n",
              "  <thead>\n",
              "    <tr style=\"text-align: right;\">\n",
              "      <th></th>\n",
              "      <th>Name</th>\n",
              "      <th>Age</th>\n",
              "    </tr>\n",
              "  </thead>\n",
              "  <tbody>\n",
              "    <tr>\n",
              "      <th>0</th>\n",
              "      <td>Alice</td>\n",
              "      <td>25.000000</td>\n",
              "    </tr>\n",
              "    <tr>\n",
              "      <th>1</th>\n",
              "      <td>Bob</td>\n",
              "      <td>28.333333</td>\n",
              "    </tr>\n",
              "    <tr>\n",
              "      <th>2</th>\n",
              "      <td>Rajesh</td>\n",
              "      <td>25.000000</td>\n",
              "    </tr>\n",
              "    <tr>\n",
              "      <th>3</th>\n",
              "      <td>Charlie</td>\n",
              "      <td>35.000000</td>\n",
              "    </tr>\n",
              "  </tbody>\n",
              "</table>\n",
              "</div>\n",
              "    <div class=\"colab-df-buttons\">\n",
              "\n",
              "  <div class=\"colab-df-container\">\n",
              "    <button class=\"colab-df-convert\" onclick=\"convertToInteractive('df-65f52c66-01ba-4639-8166-51c75ee7a534')\"\n",
              "            title=\"Convert this dataframe to an interactive table.\"\n",
              "            style=\"display:none;\">\n",
              "\n",
              "  <svg xmlns=\"http://www.w3.org/2000/svg\" height=\"24px\" viewBox=\"0 -960 960 960\">\n",
              "    <path d=\"M120-120v-720h720v720H120Zm60-500h600v-160H180v160Zm220 220h160v-160H400v160Zm0 220h160v-160H400v160ZM180-400h160v-160H180v160Zm440 0h160v-160H620v160ZM180-180h160v-160H180v160Zm440 0h160v-160H620v160Z\"/>\n",
              "  </svg>\n",
              "    </button>\n",
              "\n",
              "  <style>\n",
              "    .colab-df-container {\n",
              "      display:flex;\n",
              "      gap: 12px;\n",
              "    }\n",
              "\n",
              "    .colab-df-convert {\n",
              "      background-color: #E8F0FE;\n",
              "      border: none;\n",
              "      border-radius: 50%;\n",
              "      cursor: pointer;\n",
              "      display: none;\n",
              "      fill: #1967D2;\n",
              "      height: 32px;\n",
              "      padding: 0 0 0 0;\n",
              "      width: 32px;\n",
              "    }\n",
              "\n",
              "    .colab-df-convert:hover {\n",
              "      background-color: #E2EBFA;\n",
              "      box-shadow: 0px 1px 2px rgba(60, 64, 67, 0.3), 0px 1px 3px 1px rgba(60, 64, 67, 0.15);\n",
              "      fill: #174EA6;\n",
              "    }\n",
              "\n",
              "    .colab-df-buttons div {\n",
              "      margin-bottom: 4px;\n",
              "    }\n",
              "\n",
              "    [theme=dark] .colab-df-convert {\n",
              "      background-color: #3B4455;\n",
              "      fill: #D2E3FC;\n",
              "    }\n",
              "\n",
              "    [theme=dark] .colab-df-convert:hover {\n",
              "      background-color: #434B5C;\n",
              "      box-shadow: 0px 1px 3px 1px rgba(0, 0, 0, 0.15);\n",
              "      filter: drop-shadow(0px 1px 2px rgba(0, 0, 0, 0.3));\n",
              "      fill: #FFFFFF;\n",
              "    }\n",
              "  </style>\n",
              "\n",
              "    <script>\n",
              "      const buttonEl =\n",
              "        document.querySelector('#df-65f52c66-01ba-4639-8166-51c75ee7a534 button.colab-df-convert');\n",
              "      buttonEl.style.display =\n",
              "        google.colab.kernel.accessAllowed ? 'block' : 'none';\n",
              "\n",
              "      async function convertToInteractive(key) {\n",
              "        const element = document.querySelector('#df-65f52c66-01ba-4639-8166-51c75ee7a534');\n",
              "        const dataTable =\n",
              "          await google.colab.kernel.invokeFunction('convertToInteractive',\n",
              "                                                    [key], {});\n",
              "        if (!dataTable) return;\n",
              "\n",
              "        const docLinkHtml = 'Like what you see? Visit the ' +\n",
              "          '<a target=\"_blank\" href=https://colab.research.google.com/notebooks/data_table.ipynb>data table notebook</a>'\n",
              "          + ' to learn more about interactive tables.';\n",
              "        element.innerHTML = '';\n",
              "        dataTable['output_type'] = 'display_data';\n",
              "        await google.colab.output.renderOutput(dataTable, element);\n",
              "        const docLink = document.createElement('div');\n",
              "        docLink.innerHTML = docLinkHtml;\n",
              "        element.appendChild(docLink);\n",
              "      }\n",
              "    </script>\n",
              "  </div>\n",
              "\n",
              "\n",
              "    <div id=\"df-cbcf3692-cc5f-4a63-9671-5550e954ac42\">\n",
              "      <button class=\"colab-df-quickchart\" onclick=\"quickchart('df-cbcf3692-cc5f-4a63-9671-5550e954ac42')\"\n",
              "                title=\"Suggest charts\"\n",
              "                style=\"display:none;\">\n",
              "\n",
              "<svg xmlns=\"http://www.w3.org/2000/svg\" height=\"24px\"viewBox=\"0 0 24 24\"\n",
              "     width=\"24px\">\n",
              "    <g>\n",
              "        <path d=\"M19 3H5c-1.1 0-2 .9-2 2v14c0 1.1.9 2 2 2h14c1.1 0 2-.9 2-2V5c0-1.1-.9-2-2-2zM9 17H7v-7h2v7zm4 0h-2V7h2v10zm4 0h-2v-4h2v4z\"/>\n",
              "    </g>\n",
              "</svg>\n",
              "      </button>\n",
              "\n",
              "<style>\n",
              "  .colab-df-quickchart {\n",
              "      --bg-color: #E8F0FE;\n",
              "      --fill-color: #1967D2;\n",
              "      --hover-bg-color: #E2EBFA;\n",
              "      --hover-fill-color: #174EA6;\n",
              "      --disabled-fill-color: #AAA;\n",
              "      --disabled-bg-color: #DDD;\n",
              "  }\n",
              "\n",
              "  [theme=dark] .colab-df-quickchart {\n",
              "      --bg-color: #3B4455;\n",
              "      --fill-color: #D2E3FC;\n",
              "      --hover-bg-color: #434B5C;\n",
              "      --hover-fill-color: #FFFFFF;\n",
              "      --disabled-bg-color: #3B4455;\n",
              "      --disabled-fill-color: #666;\n",
              "  }\n",
              "\n",
              "  .colab-df-quickchart {\n",
              "    background-color: var(--bg-color);\n",
              "    border: none;\n",
              "    border-radius: 50%;\n",
              "    cursor: pointer;\n",
              "    display: none;\n",
              "    fill: var(--fill-color);\n",
              "    height: 32px;\n",
              "    padding: 0;\n",
              "    width: 32px;\n",
              "  }\n",
              "\n",
              "  .colab-df-quickchart:hover {\n",
              "    background-color: var(--hover-bg-color);\n",
              "    box-shadow: 0 1px 2px rgba(60, 64, 67, 0.3), 0 1px 3px 1px rgba(60, 64, 67, 0.15);\n",
              "    fill: var(--button-hover-fill-color);\n",
              "  }\n",
              "\n",
              "  .colab-df-quickchart-complete:disabled,\n",
              "  .colab-df-quickchart-complete:disabled:hover {\n",
              "    background-color: var(--disabled-bg-color);\n",
              "    fill: var(--disabled-fill-color);\n",
              "    box-shadow: none;\n",
              "  }\n",
              "\n",
              "  .colab-df-spinner {\n",
              "    border: 2px solid var(--fill-color);\n",
              "    border-color: transparent;\n",
              "    border-bottom-color: var(--fill-color);\n",
              "    animation:\n",
              "      spin 1s steps(1) infinite;\n",
              "  }\n",
              "\n",
              "  @keyframes spin {\n",
              "    0% {\n",
              "      border-color: transparent;\n",
              "      border-bottom-color: var(--fill-color);\n",
              "      border-left-color: var(--fill-color);\n",
              "    }\n",
              "    20% {\n",
              "      border-color: transparent;\n",
              "      border-left-color: var(--fill-color);\n",
              "      border-top-color: var(--fill-color);\n",
              "    }\n",
              "    30% {\n",
              "      border-color: transparent;\n",
              "      border-left-color: var(--fill-color);\n",
              "      border-top-color: var(--fill-color);\n",
              "      border-right-color: var(--fill-color);\n",
              "    }\n",
              "    40% {\n",
              "      border-color: transparent;\n",
              "      border-right-color: var(--fill-color);\n",
              "      border-top-color: var(--fill-color);\n",
              "    }\n",
              "    60% {\n",
              "      border-color: transparent;\n",
              "      border-right-color: var(--fill-color);\n",
              "    }\n",
              "    80% {\n",
              "      border-color: transparent;\n",
              "      border-right-color: var(--fill-color);\n",
              "      border-bottom-color: var(--fill-color);\n",
              "    }\n",
              "    90% {\n",
              "      border-color: transparent;\n",
              "      border-bottom-color: var(--fill-color);\n",
              "    }\n",
              "  }\n",
              "</style>\n",
              "\n",
              "      <script>\n",
              "        async function quickchart(key) {\n",
              "          const quickchartButtonEl =\n",
              "            document.querySelector('#' + key + ' button');\n",
              "          quickchartButtonEl.disabled = true;  // To prevent multiple clicks.\n",
              "          quickchartButtonEl.classList.add('colab-df-spinner');\n",
              "          try {\n",
              "            const charts = await google.colab.kernel.invokeFunction(\n",
              "                'suggestCharts', [key], {});\n",
              "          } catch (error) {\n",
              "            console.error('Error during call to suggestCharts:', error);\n",
              "          }\n",
              "          quickchartButtonEl.classList.remove('colab-df-spinner');\n",
              "          quickchartButtonEl.classList.add('colab-df-quickchart-complete');\n",
              "        }\n",
              "        (() => {\n",
              "          let quickchartButtonEl =\n",
              "            document.querySelector('#df-cbcf3692-cc5f-4a63-9671-5550e954ac42 button');\n",
              "          quickchartButtonEl.style.display =\n",
              "            google.colab.kernel.accessAllowed ? 'block' : 'none';\n",
              "        })();\n",
              "      </script>\n",
              "    </div>\n",
              "\n",
              "  <div id=\"id_489a54e0-894d-490c-a6dc-72027621b160\">\n",
              "    <style>\n",
              "      .colab-df-generate {\n",
              "        background-color: #E8F0FE;\n",
              "        border: none;\n",
              "        border-radius: 50%;\n",
              "        cursor: pointer;\n",
              "        display: none;\n",
              "        fill: #1967D2;\n",
              "        height: 32px;\n",
              "        padding: 0 0 0 0;\n",
              "        width: 32px;\n",
              "      }\n",
              "\n",
              "      .colab-df-generate:hover {\n",
              "        background-color: #E2EBFA;\n",
              "        box-shadow: 0px 1px 2px rgba(60, 64, 67, 0.3), 0px 1px 3px 1px rgba(60, 64, 67, 0.15);\n",
              "        fill: #174EA6;\n",
              "      }\n",
              "\n",
              "      [theme=dark] .colab-df-generate {\n",
              "        background-color: #3B4455;\n",
              "        fill: #D2E3FC;\n",
              "      }\n",
              "\n",
              "      [theme=dark] .colab-df-generate:hover {\n",
              "        background-color: #434B5C;\n",
              "        box-shadow: 0px 1px 3px 1px rgba(0, 0, 0, 0.15);\n",
              "        filter: drop-shadow(0px 1px 2px rgba(0, 0, 0, 0.3));\n",
              "        fill: #FFFFFF;\n",
              "      }\n",
              "    </style>\n",
              "    <button class=\"colab-df-generate\" onclick=\"generateWithVariable('cleaned_df')\"\n",
              "            title=\"Generate code using this dataframe.\"\n",
              "            style=\"display:none;\">\n",
              "\n",
              "  <svg xmlns=\"http://www.w3.org/2000/svg\" height=\"24px\"viewBox=\"0 0 24 24\"\n",
              "       width=\"24px\">\n",
              "    <path d=\"M7,19H8.4L18.45,9,17,7.55,7,17.6ZM5,21V16.75L18.45,3.32a2,2,0,0,1,2.83,0l1.4,1.43a1.91,1.91,0,0,1,.58,1.4,1.91,1.91,0,0,1-.58,1.4L9.25,21ZM18.45,9,17,7.55Zm-12,3A5.31,5.31,0,0,0,4.9,8.1,5.31,5.31,0,0,0,1,6.5,5.31,5.31,0,0,0,4.9,4.9,5.31,5.31,0,0,0,6.5,1,5.31,5.31,0,0,0,8.1,4.9,5.31,5.31,0,0,0,12,6.5,5.46,5.46,0,0,0,6.5,12Z\"/>\n",
              "  </svg>\n",
              "    </button>\n",
              "    <script>\n",
              "      (() => {\n",
              "      const buttonEl =\n",
              "        document.querySelector('#id_489a54e0-894d-490c-a6dc-72027621b160 button.colab-df-generate');\n",
              "      buttonEl.style.display =\n",
              "        google.colab.kernel.accessAllowed ? 'block' : 'none';\n",
              "\n",
              "      buttonEl.onclick = () => {\n",
              "        google.colab.notebook.generateWithVariable('cleaned_df');\n",
              "      }\n",
              "      })();\n",
              "    </script>\n",
              "  </div>\n",
              "\n",
              "    </div>\n",
              "  </div>\n"
            ],
            "application/vnd.google.colaboratory.intrinsic+json": {
              "type": "dataframe",
              "variable_name": "cleaned_df",
              "summary": "{\n  \"name\": \"cleaned_df\",\n  \"rows\": 4,\n  \"fields\": [\n    {\n      \"column\": \"Name\",\n      \"properties\": {\n        \"dtype\": \"string\",\n        \"num_unique_values\": 4,\n        \"samples\": [\n          \"Bob\",\n          \"Charlie\",\n          \"Alice\"\n        ],\n        \"semantic_type\": \"\",\n        \"description\": \"\"\n      }\n    },\n    {\n      \"column\": \"Age\",\n      \"properties\": {\n        \"dtype\": \"number\",\n        \"std\": 4.714045207910316,\n        \"min\": 25.0,\n        \"max\": 35.0,\n        \"num_unique_values\": 3,\n        \"samples\": [\n          25.0,\n          28.333333333333332,\n          35.0\n        ],\n        \"semantic_type\": \"\",\n        \"description\": \"\"\n      }\n    }\n  ]\n}"
            }
          },
          "metadata": {}
        }
      ]
    },
    {
      "cell_type": "markdown",
      "source": [
        "#5: Correcting DataTypes"
      ],
      "metadata": {
        "id": "-fXFmqQZVpaf"
      }
    },
    {
      "cell_type": "code",
      "source": [
        "data = {'Date':['2023-01-01','2023-02-01','2023-03-01'],'Age':[25,25,35]}\n",
        "df = pd.DataFrame(data)\n",
        "print(f\"Original Data\\n\\n{df.head()}\\n\\n{df.dtypes}\")\n",
        "\n",
        "df[\"Date\"] = pd.to_datetime(df[\"Date\"])\n",
        "print(f\"\\n\\nCorrected Data\\n\\n{df.head()}\\n\\n{df.dtypes}\")"
      ],
      "metadata": {
        "colab": {
          "base_uri": "https://localhost:8080/"
        },
        "id": "YMixpzX0Vs91",
        "outputId": "0286f851-733d-46a8-e8a7-4e0834a5bd26"
      },
      "execution_count": null,
      "outputs": [
        {
          "output_type": "stream",
          "name": "stdout",
          "text": [
            "Original Data\n",
            "\n",
            "         Date  Age\n",
            "0  2023-01-01   25\n",
            "1  2023-02-01   25\n",
            "2  2023-03-01   35\n",
            "\n",
            "Date    object\n",
            "Age      int64\n",
            "dtype: object\n",
            "\n",
            "\n",
            "Corrected Data\n",
            "\n",
            "        Date  Age\n",
            "0 2023-01-01   25\n",
            "1 2023-02-01   25\n",
            "2 2023-03-01   35\n",
            "\n",
            "Date    datetime64[ns]\n",
            "Age              int64\n",
            "dtype: object\n"
          ]
        }
      ]
    },
    {
      "cell_type": "markdown",
      "source": [
        "#6: Standardize Text cases\n"
      ],
      "metadata": {
        "id": "IVnEP18el_Io"
      }
    },
    {
      "cell_type": "code",
      "source": [
        "import pandas as pd\n",
        "data = {'Name':['Alice','BOB','ToM','Charlie'],'Age':[25,30,25,35]}\n",
        "df = pd.DataFrame(data)\n",
        "print(f\"{df}\\n\\n\")\n",
        "\n",
        "df[\"Name\"] = df[\"Name\"].str.title()\n",
        "print(df)"
      ],
      "metadata": {
        "colab": {
          "base_uri": "https://localhost:8080/"
        },
        "id": "TenZEaq5mQeH",
        "outputId": "615ceb79-b9a3-473d-fd95-4394717d2321"
      },
      "execution_count": null,
      "outputs": [
        {
          "output_type": "stream",
          "name": "stdout",
          "text": [
            "      Name  Age\n",
            "0    Alice   25\n",
            "1      BOB   30\n",
            "2      ToM   25\n",
            "3  Charlie   35\n",
            "\n",
            "\n",
            "      Name  Age\n",
            "0    Alice   25\n",
            "1      Bob   30\n",
            "2      Tom   25\n",
            "3  Charlie   35\n"
          ]
        }
      ]
    },
    {
      "cell_type": "markdown",
      "source": [
        "#7: Filter Outliers"
      ],
      "metadata": {
        "id": "vJiOLG_koBKW"
      }
    },
    {
      "cell_type": "code",
      "source": [
        "data = {'Values':[2,4,12,6,8,250,10]}\n",
        "df = pd.DataFrame(data)\n",
        "print(f\"{df}\\n\\n\")\n",
        "\n",
        "q1 = df[\"Values\"].quantile(0.25)\n",
        "q3 = df[\"Values\"].quantile(0.75)\n",
        "iqr = q3 - q1\n",
        "\n",
        "lower_bound = q1 - 1.5*iqr\n",
        "upper_bound = q3 + 1.5*iqr\n",
        "\n",
        "new_df = df[(df[\"Values\"] >= lower_bound) & (df[\"Values\"] <= upper_bound)]\n",
        "print(new_df)"
      ],
      "metadata": {
        "colab": {
          "base_uri": "https://localhost:8080/"
        },
        "id": "5BoaOrM6oGBN",
        "outputId": "4ee5569a-8844-4467-88e2-76755a4914c7"
      },
      "execution_count": null,
      "outputs": [
        {
          "output_type": "stream",
          "name": "stdout",
          "text": [
            "   Values\n",
            "0       2\n",
            "1       4\n",
            "2      12\n",
            "3       6\n",
            "4       8\n",
            "5     250\n",
            "6      10\n",
            "\n",
            "\n",
            "   Values\n",
            "0       2\n",
            "1       4\n",
            "2      12\n",
            "3       6\n",
            "4       8\n",
            "6      10\n"
          ]
        }
      ]
    },
    {
      "cell_type": "markdown",
      "source": [
        "#8. Normalize data using Min-Max Normalization"
      ],
      "metadata": {
        "id": "Zjbp06caq1Bc"
      }
    },
    {
      "cell_type": "code",
      "source": [
        "data = {'Feature1':[100,200,300,500],'Feature2':[0.5,0.2,0.3,0.9]}\n",
        "df = pd.DataFrame(data)\n",
        "print(f\"{df}\\n\\n\")\n",
        "\n",
        "df_normalized = ((df-df.min())/(df.max()-df.min()))\n",
        "print(df_normalized)"
      ],
      "metadata": {
        "colab": {
          "base_uri": "https://localhost:8080/"
        },
        "id": "pCRn_f0KrDTN",
        "outputId": "687204bc-afea-4f9d-e93d-f42f1ba9ae69"
      },
      "execution_count": null,
      "outputs": [
        {
          "output_type": "stream",
          "name": "stdout",
          "text": [
            "   Feature1  Feature2\n",
            "0       100       0.5\n",
            "1       200       0.2\n",
            "2       300       0.3\n",
            "3       500       0.9\n",
            "\n",
            "\n",
            "   Feature1  Feature2\n",
            "0      0.00  0.428571\n",
            "1      0.25  0.000000\n",
            "2      0.50  0.142857\n",
            "3      1.00  1.000000\n"
          ]
        }
      ]
    },
    {
      "cell_type": "markdown",
      "source": [
        "#9. Removing Irrelevant Data"
      ],
      "metadata": {
        "id": "HN_Ru-Ftstsy"
      }
    },
    {
      "cell_type": "code",
      "source": [
        "data = {'Name':['Alice','Bob','Tom','Charlie'],'Age':[25,30,25,35],'Unnecessary':[1,2,3,4]}\n",
        "df = pd.DataFrame(data)\n",
        "print(f\"{df}\\n\\n\")\n",
        "\n",
        "df_cleaned = df.drop(columns=[\"Unnecessary\"])\n",
        "print(df_cleaned)\n",
        "\n"
      ],
      "metadata": {
        "colab": {
          "base_uri": "https://localhost:8080/"
        },
        "id": "2LlaFtWnsw_6",
        "outputId": "0087c26c-e0d4-4c52-86e0-6b44275c05da"
      },
      "execution_count": null,
      "outputs": [
        {
          "output_type": "stream",
          "name": "stdout",
          "text": [
            "      Name  Age  Unnecessary\n",
            "0    Alice   25            1\n",
            "1      Bob   30            2\n",
            "2      Tom   25            3\n",
            "3  Charlie   35            4\n",
            "\n",
            "\n",
            "      Name  Age\n",
            "0    Alice   25\n",
            "1      Bob   30\n",
            "2      Tom   25\n",
            "3  Charlie   35\n"
          ]
        }
      ]
    },
    {
      "cell_type": "markdown",
      "source": [
        "#10: Validate Data Integrity"
      ],
      "metadata": {
        "id": "tLz_8l0Nwgp_"
      }
    },
    {
      "cell_type": "code",
      "source": [
        "data = {'Name':['Alice','Bob','Tom','Charly'],'Age':[25,30,25,35]}\n",
        "df = pd.DataFrame(data)\n",
        "print(f\"{df}\\n\\n\")\n",
        "\n",
        "valid_names = ['Alice','Bob','Tom','Charlie']\n",
        "df_cleaned = df[df[\"Name\"].isin(valid_names)]\n",
        "print(df_cleaned)"
      ],
      "metadata": {
        "colab": {
          "base_uri": "https://localhost:8080/"
        },
        "id": "X50QeI12wqan",
        "outputId": "7f775a38-2e87-42f1-b3ae-8823045de66e"
      },
      "execution_count": null,
      "outputs": [
        {
          "output_type": "stream",
          "name": "stdout",
          "text": [
            "     Name  Age\n",
            "0   Alice   25\n",
            "1     Bob   30\n",
            "2     Tom   25\n",
            "3  Charly   35\n",
            "\n",
            "\n",
            "    Name  Age\n",
            "0  Alice   25\n",
            "1    Bob   30\n",
            "2    Tom   25\n"
          ]
        }
      ]
    },
    {
      "cell_type": "markdown",
      "source": [
        "#11: Document Cleaning full Process upto Now"
      ],
      "metadata": {
        "id": "ES73JMnHYF5a"
      }
    },
    {
      "cell_type": "code",
      "source": [
        "import pandas as pd\n",
        "import numpy as np\n",
        "data = {'Name':['Alice','BOB','Charlie','Alice'],'Age':[25,30,np.nan,25],'Salary':[50000,60000,70000,50000]}\n",
        "df = pd.DataFrame(data)\n",
        "copy_df = df.copy()\n",
        "print(f\"Original Dataframe: \\n\\n{df}\\n\\n\")\n",
        "\n",
        "cleaned_process = []\n",
        "\n",
        "#Remove Duplicates\n",
        "copy_df = df.drop_duplicates()\n",
        "cleaned_process.append(\"Removed Duplicates\")\n",
        "\n",
        "#Fill missing values\n",
        "copy_df.loc[:,'Age'] = copy_df['Age'].fillna(copy_df['Age'].mean())\n",
        "cleaned_process.append(\"Fill Missing Values with mean\")\n",
        "\n",
        "#Standardize text data\n",
        "copy_df.loc[:,\"Name\"] = copy_df[\"Name\"].str.upper()\n",
        "cleaned_process.append(\"Standardize the text data\")\n",
        "\n",
        "\n",
        "#Remove Irrelevant columns\n",
        "copy_df = copy_df.drop(columns=[\"Salary\"])\n",
        "cleaned_process.append(\"Remove Irrelevant data\")\n",
        "\n",
        "#Correct Data type make sure Age column is integer\n",
        "copy_df.loc[:,'Age'] = copy_df['Age'].astype(int)\n",
        "cleaned_process.append(\"Correcting the data type\")\n",
        "\n",
        "\n",
        "#Filter outliers in age remove age less than 0 and greater than 100\n",
        "copy_df = copy_df[(copy_df['Age'] > 0 )& (copy_df['Age'] < 100)]\n",
        "cleaned_process.append(\"handling outliers\")\n",
        "\n",
        "\n",
        "#Validate data Integrity\n",
        "if copy_df.isnull().sum().sum() == 0:\n",
        "  cleaned_process.append(\"Data Integrity done: No missing values\")\n",
        "else:\n",
        "  cleaned_process.append(\"Data Integrity failed missing values detected\")\n",
        "\n",
        "\n",
        "\n",
        "#Reset indexing after cleaning\n",
        "copy_df = copy_df.reset_index(drop=True)\n",
        "cleaned_process.append(\"Reset dataframe index\")\n",
        "\n",
        "print(f\"{copy_df}\\n\\n\")\n",
        "print(f\"Cleaned Process:\\n\")\n",
        "for index,value in enumerate(cleaned_process):\n",
        "  print(f\"Step{index+1}: {value}\")\n",
        "\n",
        "\n",
        "\n"
      ],
      "metadata": {
        "colab": {
          "base_uri": "https://localhost:8080/"
        },
        "id": "6fRzTsQ7YNwU",
        "outputId": "fb9f543f-570a-4f91-97ef-f991de0483af"
      },
      "execution_count": null,
      "outputs": [
        {
          "output_type": "stream",
          "name": "stdout",
          "text": [
            "Original Dataframe: \n",
            "\n",
            "      Name   Age  Salary\n",
            "0    Alice  25.0   50000\n",
            "1      BOB  30.0   60000\n",
            "2  Charlie   NaN   70000\n",
            "3    Alice  25.0   50000\n",
            "\n",
            "\n",
            "      Name   Age\n",
            "0    ALICE  25.0\n",
            "1      BOB  30.0\n",
            "2  CHARLIE  27.0\n",
            "\n",
            "\n",
            "Cleaned Process:\n",
            "\n",
            "Step1: Removed Duplicates\n",
            "Step2: Fill Missing Values with mean\n",
            "Step3: Standardize the text data\n",
            "Step4: Remove Irrelevant data\n",
            "Step5: Correcting the data type\n",
            "Step6: handling outliers\n",
            "Step7: Data Integrity done: No missing values\n",
            "Step8: Reset dataframe index\n"
          ]
        }
      ]
    },
    {
      "cell_type": "markdown",
      "source": [
        "#12. Remove Extra Spaces"
      ],
      "metadata": {
        "id": "Nw6l9KEumW88"
      }
    },
    {
      "cell_type": "code",
      "source": [
        "import pandas as pd\n",
        "data = {'Name':['  Alice','Bob  ','Charlie ']}\n",
        "df = pd.DataFrame(data)\n",
        "print(f'{df}\\n\\n')\n",
        "\n",
        "df['Name'] = df['Name'].str.strip()\n",
        "print(df)"
      ],
      "metadata": {
        "colab": {
          "base_uri": "https://localhost:8080/"
        },
        "id": "yz_naAvUmbmz",
        "outputId": "332b53c3-ca84-4de1-e928-9c17ec3c5bdb"
      },
      "execution_count": null,
      "outputs": [
        {
          "output_type": "stream",
          "name": "stdout",
          "text": [
            "       Name\n",
            "0     Alice\n",
            "1     Bob  \n",
            "2  Charlie \n",
            "\n",
            "\n",
            "      Name\n",
            "0    Alice\n",
            "1      Bob\n",
            "2  Charlie\n"
          ]
        }
      ]
    },
    {
      "cell_type": "markdown",
      "source": [
        "#13. Handle Inconsistent categorical data\n"
      ],
      "metadata": {
        "id": "jZaVdvqznaZj"
      }
    },
    {
      "cell_type": "code",
      "source": [
        "data = {'Gender':['Male','M','Female','F','male','F']}\n",
        "df = pd.DataFrame(data)\n",
        "print(f\"{df}\\n\\n\")\n",
        "\n",
        "df['Gender'] = df['Gender'].replace({'M':'Male','F':'Female','male':'Male'})\n",
        "print(df)"
      ],
      "metadata": {
        "colab": {
          "base_uri": "https://localhost:8080/"
        },
        "id": "k5u_6IPLpYNx",
        "outputId": "af1b434f-c448-48bb-ad66-77263403d46d"
      },
      "execution_count": null,
      "outputs": [
        {
          "output_type": "stream",
          "name": "stdout",
          "text": [
            "   Gender\n",
            "0    Male\n",
            "1       M\n",
            "2  Female\n",
            "3       F\n",
            "4    male\n",
            "5       F\n",
            "\n",
            "\n",
            "   Gender\n",
            "0    Male\n",
            "1    Male\n",
            "2  Female\n",
            "3  Female\n",
            "4    Male\n",
            "5  Female\n"
          ]
        }
      ]
    },
    {
      "cell_type": "markdown",
      "source": [
        "#14. Split Columns\n"
      ],
      "metadata": {
        "id": "EAvhGUfPqrmI"
      }
    },
    {
      "cell_type": "code",
      "source": [
        "data = {'Full Name':['Alice Smith','Mathew chris','Bob Johnson','chris brown','Norman Yadev']}\n",
        "\n",
        "df = pd.DataFrame(data)\n",
        "print(f\"{df}\\n\\n\")\n",
        "\n",
        "df[['First Name','Last Name']] = df['Full Name'].str.split(\" \",expand = True)\n",
        "print(df)"
      ],
      "metadata": {
        "colab": {
          "base_uri": "https://localhost:8080/"
        },
        "id": "7EPdtFYVtd9o",
        "outputId": "273fc0d2-0f44-4e02-bdb9-5243fd92d0b0"
      },
      "execution_count": null,
      "outputs": [
        {
          "output_type": "stream",
          "name": "stdout",
          "text": [
            "      Full Name\n",
            "0   Alice Smith\n",
            "1  Mathew chris\n",
            "2   Bob Johnson\n",
            "3   chris brown\n",
            "4  Norman Yadev\n",
            "\n",
            "\n",
            "      Full Name First Name Last Name\n",
            "0   Alice Smith      Alice     Smith\n",
            "1  Mathew chris     Mathew     chris\n",
            "2   Bob Johnson        Bob   Johnson\n",
            "3   chris brown      chris     brown\n",
            "4  Norman Yadev     Norman     Yadev\n"
          ]
        }
      ]
    },
    {
      "cell_type": "markdown",
      "source": [
        "#15. Merge Columns\n",
        "\n"
      ],
      "metadata": {
        "id": "Q7riB5wAwP0d"
      }
    },
    {
      "cell_type": "code",
      "source": [
        "data = {'Year':[2023,2024],'Month':[1,2],'Day':[2,12]}\n",
        "df = pd.DataFrame(data)\n",
        "print(f\"{df}\\n\\n\")\n",
        "\n",
        "df['Date'] = pd.to_datetime(df[['Year','Month','Day']])\n",
        "print(df)"
      ],
      "metadata": {
        "colab": {
          "base_uri": "https://localhost:8080/"
        },
        "id": "rh8vHnOowUx8",
        "outputId": "16492085-3601-4e18-fa24-0c3dd7561997"
      },
      "execution_count": null,
      "outputs": [
        {
          "output_type": "stream",
          "name": "stdout",
          "text": [
            "   Year  Month  Day\n",
            "0  2023      1    2\n",
            "1  2024      2   12\n",
            "\n",
            "\n",
            "   Year  Month  Day       Date\n",
            "0  2023      1    2 2023-01-02\n",
            "1  2024      2   12 2024-02-12\n"
          ]
        }
      ]
    },
    {
      "cell_type": "markdown",
      "source": [
        "#16. Convert text to lowercase"
      ],
      "metadata": {
        "id": "ig4sDI4r1eac"
      }
    },
    {
      "cell_type": "code",
      "source": [
        "data = {'Text':['HeLLo','WORLD']}\n",
        "df = pd.DataFrame(data)\n",
        "print(f\"{df}\\n\\n\")\n",
        "\n",
        "df['Text'] = df['Text'].str.lower()\n",
        "print(df)"
      ],
      "metadata": {
        "colab": {
          "base_uri": "https://localhost:8080/"
        },
        "id": "mTXC_sWe1sGZ",
        "outputId": "ad501dcc-cecb-46df-e477-75cc547321f3"
      },
      "execution_count": null,
      "outputs": [
        {
          "output_type": "stream",
          "name": "stdout",
          "text": [
            "    Text\n",
            "0  HeLLo\n",
            "1  WORLD\n",
            "\n",
            "\n",
            "    Text\n",
            "0  hello\n",
            "1  world\n"
          ]
        }
      ]
    },
    {
      "cell_type": "markdown",
      "source": [
        "#17. Remove unwanted Rows"
      ],
      "metadata": {
        "id": "_t8aGrBc0op7"
      }
    },
    {
      "cell_type": "code",
      "source": [
        "import pandas as pd\n",
        "data = {'Name':['Alice','Bob','Tom','Charly'],'Age':[25,30,-25,35]}\n",
        "df = pd.DataFrame(data)\n",
        "print(f\"{df}\\n\\n\")\n",
        "\n",
        "df = df[df['Age']>0]\n",
        "print(df)"
      ],
      "metadata": {
        "colab": {
          "base_uri": "https://localhost:8080/"
        },
        "id": "EwjESezE0rYC",
        "outputId": "308564dc-35dd-4b8f-e88f-42217da04440"
      },
      "execution_count": null,
      "outputs": [
        {
          "output_type": "stream",
          "name": "stdout",
          "text": [
            "     Name  Age\n",
            "0   Alice   25\n",
            "1     Bob   30\n",
            "2     Tom  -25\n",
            "3  Charly   35\n",
            "\n",
            "\n",
            "     Name  Age\n",
            "0   Alice   25\n",
            "1     Bob   30\n",
            "3  Charly   35\n"
          ]
        }
      ]
    },
    {
      "cell_type": "markdown",
      "source": [
        "#18. One Hot Encodding"
      ],
      "metadata": {
        "id": "wmvNw5kH2AMy"
      }
    },
    {
      "cell_type": "code",
      "source": [
        "data = {'Color':['Blue','Red','Green','Pink']}\n",
        "df = pd.DataFrame(data)\n",
        "print(f\"{df}\\n\\n\")\n",
        "\n",
        "df_encoded = pd.get_dummies(df,columns=['Color'])\n",
        "print(df_encoded)"
      ],
      "metadata": {
        "colab": {
          "base_uri": "https://localhost:8080/"
        },
        "id": "MI-MSXSv2HVB",
        "outputId": "dc6027c4-717a-47c0-91fb-c783346b66f9"
      },
      "execution_count": null,
      "outputs": [
        {
          "output_type": "stream",
          "name": "stdout",
          "text": [
            "   Color\n",
            "0   Blue\n",
            "1    Red\n",
            "2  Green\n",
            "3   Pink\n",
            "\n",
            "\n",
            "   Color_Blue  Color_Green  Color_Pink  Color_Red\n",
            "0        True        False       False      False\n",
            "1       False        False       False       True\n",
            "2       False         True       False      False\n",
            "3       False        False        True      False\n"
          ]
        }
      ]
    },
    {
      "cell_type": "markdown",
      "source": [
        "#19. Aggregate Data"
      ],
      "metadata": {
        "id": "r0r91iK03CTZ"
      }
    },
    {
      "cell_type": "code",
      "source": [
        "data = {'Region':['North','South','North','South'],'Sales':[100,200,150,250]}\n",
        "df = pd.DataFrame(data)\n",
        "print(f\"{df}\\n\\n\")\n",
        "\n",
        "df_aggregated = df.groupby('Region')['Sales'].mean().reset_index()\n",
        "print(df_aggregated)"
      ],
      "metadata": {
        "colab": {
          "base_uri": "https://localhost:8080/"
        },
        "id": "aVH3_k2Y3SRZ",
        "outputId": "a089123f-26f0-4b36-989b-64efd70a5dd0"
      },
      "execution_count": null,
      "outputs": [
        {
          "output_type": "stream",
          "name": "stdout",
          "text": [
            "  Region  Sales\n",
            "0  North    100\n",
            "1  South    200\n",
            "2  North    150\n",
            "3  South    250\n",
            "\n",
            "\n",
            "  Region  Sales\n",
            "0  North  125.0\n",
            "1  South  225.0\n"
          ]
        }
      ]
    },
    {
      "cell_type": "markdown",
      "source": [
        "#20. Convert all values to Integer"
      ],
      "metadata": {
        "id": "rB-PDMND44fx"
      }
    },
    {
      "cell_type": "code",
      "source": [
        "import numpy as np\n",
        "data = {'Values':[10,'South',30,40]}\n",
        "df= pd.DataFrame(data)\n",
        "print(f\"{df}\\n\\n\")\n",
        "\n",
        "df['Values'] = pd.to_numeric(df['Values'],errors = \"coerce\")\n",
        "df['Values'] = df['Values'].fillna(df['Values'].mean())\n",
        "print(df)"
      ],
      "metadata": {
        "colab": {
          "base_uri": "https://localhost:8080/"
        },
        "id": "-hDMu2Rt5meP",
        "outputId": "e3807c7b-13e4-4124-d06a-85e8108b92a8"
      },
      "execution_count": null,
      "outputs": [
        {
          "output_type": "stream",
          "name": "stdout",
          "text": [
            "  Values\n",
            "0     10\n",
            "1  South\n",
            "2     30\n",
            "3     40\n",
            "\n",
            "\n",
            "      Values\n",
            "0  10.000000\n",
            "1  26.666667\n",
            "2  30.000000\n",
            "3  40.000000\n"
          ]
        }
      ]
    },
    {
      "cell_type": "markdown",
      "source": [
        "#21. UnPivot to Long Format"
      ],
      "metadata": {
        "id": "CaPxBDw-dg0w"
      }
    },
    {
      "cell_type": "code",
      "source": [
        "import pandas as pd\n",
        "data = {'Year':[2022,2023],'Sales_Q1':[100,150],'Sales_Q2':[200,250]}\n",
        "df = pd.DataFrame(data)\n",
        "print(f\"{df}\\n\\n\")\n",
        "\n",
        "df_long = df.melt(id_vars=['Year'],\n",
        "var_name = 'Quarter', value_name = 'Sales')\n",
        "print(df_long)"
      ],
      "metadata": {
        "colab": {
          "base_uri": "https://localhost:8080/"
        },
        "id": "LKvoUKzBeF15",
        "outputId": "0491cc63-8da9-4a55-d81a-879f34ef5398"
      },
      "execution_count": null,
      "outputs": [
        {
          "output_type": "stream",
          "name": "stdout",
          "text": [
            "   Year  Sales_Q1  Sales_Q2\n",
            "0  2022       100       200\n",
            "1  2023       150       250\n",
            "\n",
            "\n",
            "   Year   Quarter  Sales\n",
            "0  2022  Sales_Q1    100\n",
            "1  2023  Sales_Q1    150\n",
            "2  2022  Sales_Q2    200\n",
            "3  2023  Sales_Q2    250\n"
          ]
        }
      ]
    },
    {
      "cell_type": "markdown",
      "source": [
        "#22. Check for Data skewness"
      ],
      "metadata": {
        "id": "02vODscHgzOf"
      }
    },
    {
      "cell_type": "code",
      "source": [
        "\n",
        "import numpy as np\n",
        "data = {'Values':[1,2,3,1000,4,5]}\n",
        "df = pd.DataFrame(data)\n",
        "print(f\"{df}\\n\\n\")\n",
        "\n",
        "skewness = df['Values'].skew()\n",
        "print(f\"skewness: {skewness}\\n\\n\")\n",
        "\n",
        "#Apply log transformation to reduce skewness\n",
        "df['Values'] = df['Values'].apply(lambda x:np.log(x) if x > 0 else 0)\n",
        "print(df)\n",
        "\n"
      ],
      "metadata": {
        "colab": {
          "base_uri": "https://localhost:8080/"
        },
        "id": "SsY5tZtkg3u-",
        "outputId": "12974dbf-f843-4e30-a6d7-a91f48236f55"
      },
      "execution_count": null,
      "outputs": [
        {
          "output_type": "stream",
          "name": "stdout",
          "text": [
            "   Values\n",
            "0       1\n",
            "1       2\n",
            "2       3\n",
            "3    1000\n",
            "4       4\n",
            "5       5\n",
            "\n",
            "\n",
            "skewness: 2.4494232090208956\n",
            "\n",
            "\n",
            "     Values\n",
            "0  0.000000\n",
            "1  0.693147\n",
            "2  1.098612\n",
            "3  6.907755\n",
            "4  1.386294\n",
            "5  1.609438\n",
            "skewness: 2.158007230292498\n",
            "\n",
            "\n"
          ]
        }
      ]
    },
    {
      "cell_type": "markdown",
      "source": [
        "#23. Handle Imbalanced data\n"
      ],
      "metadata": {
        "id": "zj7tLpngIy05"
      }
    },
    {
      "cell_type": "code",
      "source": [
        "import pandas as pd\n",
        "\n",
        "data = {'Class':['A','A','A','B','B','A','A','A','A','A']}\n",
        "df = pd.DataFrame(data)\n",
        "print(f\"{df}\\n\\n\")\n",
        "print(df['Class'].value_counts())\n",
        "\n",
        "from sklearn.utils import resample\n",
        "df_majority = df[df['Class'] == 'A']\n",
        "df_minority = df[df['Class'] == 'B']\n",
        "\n",
        "df_minority_upsampled = resample(df_minority,replace=True,\n",
        "n_samples = len(df_majority),random_state = 42)\n",
        "df_balanced = pd.concat([df_majority,df_minority_upsampled])\n",
        "print(df_balanced['Class'].value_counts())"
      ],
      "metadata": {
        "colab": {
          "base_uri": "https://localhost:8080/"
        },
        "id": "zpb391CdJDPH",
        "outputId": "65723155-6f20-48e8-8c7b-bc4474ddde63"
      },
      "execution_count": null,
      "outputs": [
        {
          "output_type": "stream",
          "name": "stdout",
          "text": [
            "  Class\n",
            "0     A\n",
            "1     A\n",
            "2     A\n",
            "3     B\n",
            "4     B\n",
            "5     A\n",
            "6     A\n",
            "7     A\n",
            "8     A\n",
            "9     A\n",
            "\n",
            "\n",
            "Class\n",
            "A    8\n",
            "B    2\n",
            "Name: count, dtype: int64\n",
            "Class\n",
            "A    8\n",
            "B    8\n",
            "Name: count, dtype: int64\n"
          ]
        }
      ]
    },
    {
      "cell_type": "markdown",
      "source": [
        "#24. Detetct and remove Multicollinearity"
      ],
      "metadata": {
        "id": "J48oqJ-SRXEQ"
      }
    },
    {
      "cell_type": "code",
      "source": [
        "import pandas as pd\n",
        "data = {'Feature1':[1,2,3,4],'Feature2':[2,4,6,8],'Feature3':[3,6,9,12]}\n",
        "df = pd.DataFrame(data)\n",
        "print(f\"{df}\\n\\n\")\n",
        "\n",
        "corr_matrix = df.corr()\n",
        "print(\"Correlation Matrix:\\n\", df.corr(), \"\\n\")\n",
        "import numpy as np\n",
        "\n",
        "upper_tri = corr_matrix.where(np.triu(np.ones(corr_matrix.shape),k=1).astype(bool))\n",
        "to_drop = [column for column in upper_tri.columns if any(upper_tri[column] > 0.95)]\n",
        "df_cleaned = df.drop(columns=to_drop)\n",
        "print(f\"{df_cleaned}\")"
      ],
      "metadata": {
        "colab": {
          "base_uri": "https://localhost:8080/"
        },
        "id": "K4dMR5LwSMN3",
        "outputId": "baa2dde4-8b0b-4384-9039-92610c4b8b2a"
      },
      "execution_count": 5,
      "outputs": [
        {
          "output_type": "stream",
          "name": "stdout",
          "text": [
            "   Feature1  Feature2  Feature3\n",
            "0         1         2         3\n",
            "1         2         4         6\n",
            "2         3         6         9\n",
            "3         4         8        12\n",
            "\n",
            "\n",
            "Correlation Matrix:\n",
            "           Feature1  Feature2  Feature3\n",
            "Feature1       1.0       1.0       1.0\n",
            "Feature2       1.0       1.0       1.0\n",
            "Feature3       1.0       1.0       1.0 \n",
            "\n",
            "   Feature1\n",
            "0         1\n",
            "1         2\n",
            "2         3\n",
            "3         4\n"
          ]
        }
      ]
    }
  ]
}