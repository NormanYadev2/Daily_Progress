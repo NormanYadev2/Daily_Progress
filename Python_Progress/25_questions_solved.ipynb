{
  "nbformat": 4,
  "nbformat_minor": 0,
  "metadata": {
    "colab": {
      "provenance": []
    },
    "kernelspec": {
      "name": "python3",
      "display_name": "Python 3"
    },
    "language_info": {
      "name": "python"
    }
  },
  "cells": [
    {
      "cell_type": "markdown",
      "source": [
        "#1: Reverse a string\n"
      ],
      "metadata": {
        "id": "bFCHAGXNpMgM"
      }
    },
    {
      "cell_type": "code",
      "source": [
        "text = input(\"Enter a word: \")\n",
        "print(\"\".join(reversed(text)))\n",
        "\n",
        "print(text[::-1])\n",
        "\n",
        "for i in range(len(text)-1,-1,-1):\n",
        "  print(text[i],end=\"\")\n",
        "\n",
        "print()\n",
        "reversed_text = \"\"\n",
        "for char in text:\n",
        "  reversed_text = char +reversed_text\n",
        "print(reversed_text)"
      ],
      "metadata": {
        "colab": {
          "base_uri": "https://localhost:8080/"
        },
        "id": "ehvQ7a0WpSJ7",
        "outputId": "771054e7-04c8-4fa3-ac59-d04a19342a3e"
      },
      "execution_count": null,
      "outputs": [
        {
          "output_type": "stream",
          "name": "stdout",
          "text": [
            "Enter a word: hello\n",
            "olleh\n",
            "olleh\n",
            "olleh\n",
            "olleh\n"
          ]
        }
      ]
    },
    {
      "cell_type": "markdown",
      "source": [
        "#2: Check if a string is a palindrome."
      ],
      "metadata": {
        "id": "HTfKWsudy9n-"
      }
    },
    {
      "cell_type": "code",
      "source": [
        "text = input(\"Enter a text: \")\n",
        "text = text.lower()\n",
        "if text[::-1] == text[::1]:\n",
        "  print(\"It is a palindrome\")\n",
        "else:\n",
        "  print(\"Not a palindrome\")"
      ],
      "metadata": {
        "colab": {
          "base_uri": "https://localhost:8080/"
        },
        "id": "tafkl4tIzBPE",
        "outputId": "65881a2e-8b8c-461d-97a9-539b6a400d33"
      },
      "execution_count": null,
      "outputs": [
        {
          "output_type": "stream",
          "name": "stdout",
          "text": [
            "Enter a text: heH\n",
            "It is a palindrome\n"
          ]
        }
      ]
    },
    {
      "cell_type": "markdown",
      "source": [
        "#3: Check if a number is a Palindrome\n"
      ],
      "metadata": {
        "id": "yxicVLpW32CK"
      }
    },
    {
      "cell_type": "code",
      "source": [
        "num = int(input(\"Enter a number: \"))\n",
        "if str(num) == str(num)[::-1]:\n",
        "  print(\"It is a palindrome\")\n",
        "else:\n",
        "  print(\"It is not a palindrome\")\n",
        "\n"
      ],
      "metadata": {
        "colab": {
          "base_uri": "https://localhost:8080/"
        },
        "id": "4BjHLmvX36Wo",
        "outputId": "5286399a-f7ef-4897-e854-2967a5b852b0"
      },
      "execution_count": null,
      "outputs": [
        {
          "output_type": "stream",
          "name": "stdout",
          "text": [
            "Enter a number: 22\n",
            "It is a palindrome\n"
          ]
        }
      ]
    },
    {
      "cell_type": "markdown",
      "source": [
        "#4: Check if a number is a Palindrome without converting to string"
      ],
      "metadata": {
        "id": "s2481fSZHwIn"
      }
    },
    {
      "cell_type": "code",
      "source": [
        "num = int(input(\"Enter a number: \"))\n",
        "temp = num\n",
        "reversed_num = 0\n",
        "while temp > 0:\n",
        "  end = temp % 10\n",
        "  reversed_num = reversed_num * 10 +end\n",
        "  temp = temp //10\n",
        "\n",
        "if num == reversed_num:\n",
        "  print(\"Palindrome\")\n",
        "else:\n",
        "  print(\"Not a plaindrome\")"
      ],
      "metadata": {
        "colab": {
          "base_uri": "https://localhost:8080/"
        },
        "id": "EtR3QSthH05V",
        "outputId": "f5989301-83b2-431c-aa39-7f348a60544f"
      },
      "execution_count": null,
      "outputs": [
        {
          "output_type": "stream",
          "name": "stdout",
          "text": [
            "Enter a number: 1441\n",
            "Palindrome\n"
          ]
        }
      ]
    },
    {
      "cell_type": "markdown",
      "source": [
        "#5: Count the frequency of each word in a sentence."
      ],
      "metadata": {
        "id": "gzser7I5crbs"
      }
    },
    {
      "cell_type": "code",
      "source": [
        "sentence = input(\"Enter a sentence: \")\n",
        "\n",
        "word_count = {}\n",
        "sentence = sentence.split(\" \")\n",
        "for word in sentence:\n",
        "  if word in word_count:\n",
        "    word_count[word] += 1\n",
        "  else:\n",
        "    word_count[word] = 1\n",
        "\n",
        "for word,count in word_count.items():\n",
        "  print(f\"{word}:{count}\")\n",
        "\n",
        "\n"
      ],
      "metadata": {
        "colab": {
          "base_uri": "https://localhost:8080/"
        },
        "id": "W53Npmc0csY0",
        "outputId": "2d0929a2-dcda-4006-ca32-0d8c439a0bc3"
      },
      "execution_count": null,
      "outputs": [
        {
          "output_type": "stream",
          "name": "stdout",
          "text": [
            "Enter a sentence: hello im yadev hello\n",
            "hello:2\n",
            "im:1\n",
            "yadev:1\n"
          ]
        }
      ]
    },
    {
      "cell_type": "markdown",
      "source": [
        "#6: FInd the largest and second largest number in a list"
      ],
      "metadata": {
        "id": "P8KRacTIqQv2"
      }
    },
    {
      "cell_type": "code",
      "source": [
        "my_list = [1,2,5,4,3,7,2,9,1]\n",
        "largest = max(my_list)\n",
        "print(f\"Largest number in the list: {largest}\")\n",
        "my_list.remove(largest)\n",
        "second_largest = max(my_list)\n",
        "print(f\"Second Largest number in the list: {second_largest}\")\n",
        "\n",
        "\n"
      ],
      "metadata": {
        "colab": {
          "base_uri": "https://localhost:8080/"
        },
        "id": "aUVbGhWdqUtI",
        "outputId": "279e062a-2d54-4aad-a60e-646ee0e619b2"
      },
      "execution_count": null,
      "outputs": [
        {
          "output_type": "stream",
          "name": "stdout",
          "text": [
            "Largest number in the list: 9\n",
            "Second Largest number in the list: 7\n"
          ]
        }
      ]
    },
    {
      "cell_type": "markdown",
      "source": [
        "##7: Sorting to find the above question"
      ],
      "metadata": {
        "id": "-HIhMLPlwI4q"
      }
    },
    {
      "cell_type": "code",
      "source": [
        "my_list = [1,2,5,4,3,7,2,9,1]\n",
        "sorted_list = sorted(my_list,reverse=True)\n",
        "largest_num = sorted_list[0]\n",
        "if len(sorted_list) >= 2:\n",
        "  second_largest = sorted_list[1]\n",
        "else:\n",
        "  print(\"List has only 1 value\")\n",
        "print(f\"Largest num is: {largest_num}\\nSecond Largest num is: {second_largest}\")"
      ],
      "metadata": {
        "colab": {
          "base_uri": "https://localhost:8080/"
        },
        "id": "tvl4w2dqwNJN",
        "outputId": "8bc54958-45b3-405d-e3ce-9c6fd7988391"
      },
      "execution_count": null,
      "outputs": [
        {
          "output_type": "stream",
          "name": "stdout",
          "text": [
            "Largest num is: 9\n",
            "Second Largest num is: 7\n"
          ]
        }
      ]
    },
    {
      "cell_type": "markdown",
      "source": [
        "##8: Using Loop"
      ],
      "metadata": {
        "id": "-VUiLJBqzAVf"
      }
    },
    {
      "cell_type": "code",
      "source": [
        "my_list = [1,2,5,4,3,7,2,9,1]\n",
        "largest = float('-inf')\n",
        "second_largest = float('-inf')\n",
        "for num in my_list:\n",
        "  if num> largest:\n",
        "    second_largest = largest\n",
        "    largest = num\n",
        "  elif num>second_largest and num < largest:\n",
        "    second_largest = num\n",
        "\n",
        "print(f\"largest: {largest}\\nsecond_largest: {second_largest}\")\n"
      ],
      "metadata": {
        "colab": {
          "base_uri": "https://localhost:8080/"
        },
        "id": "IfvWr0L8zDVW",
        "outputId": "bb5f4201-c4f9-46ae-998c-0281e3198505"
      },
      "execution_count": null,
      "outputs": [
        {
          "output_type": "stream",
          "name": "stdout",
          "text": [
            "largest: 9\n",
            "second_largest: 7\n"
          ]
        }
      ]
    },
    {
      "cell_type": "markdown",
      "source": [
        "#9: Find the factorial of a number."
      ],
      "metadata": {
        "id": "iD80817k0CE2"
      }
    },
    {
      "cell_type": "code",
      "source": [
        "number = int(input(\"Enter a number: \"))\n",
        "total = 1\n",
        "for num in range(1,number+1):\n",
        "  total = total*num\n",
        "print(total)\n"
      ],
      "metadata": {
        "colab": {
          "base_uri": "https://localhost:8080/"
        },
        "id": "bag_vgC60ITs",
        "outputId": "4bd8279a-2bfc-4d50-9053-9e2997b7b070"
      },
      "execution_count": null,
      "outputs": [
        {
          "output_type": "stream",
          "name": "stdout",
          "text": [
            "Enter a number: 5\n",
            "120\n"
          ]
        }
      ]
    },
    {
      "cell_type": "markdown",
      "source": [
        "#10: Find the factorial of a number using recursion."
      ],
      "metadata": {
        "id": "iO8UgAG08l-n"
      }
    },
    {
      "cell_type": "code",
      "source": [
        "def recursion(n):\n",
        "  if n==0 or n==1:\n",
        "    return 1\n",
        "  else:\n",
        "    return n* recursion(n-1)\n",
        "\n",
        "number= int(input(\"Enter a number: \"))\n",
        "print(recursion(number))"
      ],
      "metadata": {
        "colab": {
          "base_uri": "https://localhost:8080/"
        },
        "id": "NYNo9JNd8oP_",
        "outputId": "e5c0b82e-ce3a-44e9-da64-f9f70182d116"
      },
      "execution_count": null,
      "outputs": [
        {
          "output_type": "stream",
          "name": "stdout",
          "text": [
            "Enter a number: 5\n",
            "120\n"
          ]
        }
      ]
    },
    {
      "cell_type": "markdown",
      "source": [
        "#11: Print Fibonacci sequence up to n terms."
      ],
      "metadata": {
        "id": "uJbW5kJ6_bXu"
      }
    },
    {
      "cell_type": "code",
      "source": [
        "def fibonacci(n):\n",
        "  a,b=0,1\n",
        "  my_list = []\n",
        "  my_list.append(a)\n",
        "  my_list.append(b)\n",
        "  for i in range(n-2):\n",
        "    temp = a+b\n",
        "    a=b\n",
        "    b=temp\n",
        "    my_list.append(temp)\n",
        "  return my_list\n",
        "\n",
        "print(fibonacci(10))\n"
      ],
      "metadata": {
        "colab": {
          "base_uri": "https://localhost:8080/"
        },
        "id": "S3gwvTGz_fIE",
        "outputId": "1e0660f4-ac93-40cd-b07f-a85c56606b73"
      },
      "execution_count": null,
      "outputs": [
        {
          "output_type": "stream",
          "name": "stdout",
          "text": [
            "[0, 1, 1, 2, 3, 5, 8, 13, 21, 34]\n"
          ]
        }
      ]
    },
    {
      "cell_type": "markdown",
      "source": [
        "#12: Find the largest of three numbers."
      ],
      "metadata": {
        "id": "7sBnolLuO04c"
      }
    },
    {
      "cell_type": "code",
      "source": [
        "first_num = int(input(\"Enter first number: \"))\n",
        "second_num = int(input(\"Enter second number: \"))\n",
        "third_num = int(input(\"Enter third number: \"))\n",
        "\n",
        "if first_num > second_num and first_num > third_num:\n",
        "  print(f\"Largest number is: {first_num}\")\n",
        "elif second_num > first_num and second_num > third_num:\n",
        "  print(f\"Largest number is: {second_num}\")\n",
        "elif third_num >first_num and third_num > second_num:\n",
        "  print(f\"Largest number is: {third_num}\")\n",
        "else:\n",
        "  print(\"All the numbers are equal\")"
      ],
      "metadata": {
        "id": "Jnnv8sqMO4WA",
        "outputId": "05e7dc78-600b-42be-aefa-12009fdbcafd",
        "colab": {
          "base_uri": "https://localhost:8080/"
        }
      },
      "execution_count": null,
      "outputs": [
        {
          "output_type": "stream",
          "name": "stdout",
          "text": [
            "Enter first number: 2\n",
            "Enter second number: 3\n",
            "Enter third number: 5\n",
            "Largest number is: 5\n"
          ]
        }
      ]
    },
    {
      "cell_type": "markdown",
      "source": [
        "#13: Check if a number is prime."
      ],
      "metadata": {
        "id": "RLPCS_WdREwz"
      }
    },
    {
      "cell_type": "code",
      "source": [
        "number = int(input(\"Enter a number: \"))\n",
        "is_prime = True\n",
        "for num in range(2,number):\n",
        "  if number % num == 0:\n",
        "    is_prime = False\n",
        "    break\n",
        "\n",
        "if is_prime == True:\n",
        "  print(\"It is prime\")\n",
        "else:\n",
        "  print(\"It is not a prime\")\n",
        "\n"
      ],
      "metadata": {
        "id": "H0zsklyYRGbn",
        "outputId": "6bd92ac3-8f57-42e2-d514-5ab3d1979bf6",
        "colab": {
          "base_uri": "https://localhost:8080/"
        }
      },
      "execution_count": null,
      "outputs": [
        {
          "output_type": "stream",
          "name": "stdout",
          "text": [
            "Enter a number: 11\n",
            "It is prime\n"
          ]
        }
      ]
    },
    {
      "cell_type": "markdown",
      "source": [
        "#14: Find the sum of digits of a number."
      ],
      "metadata": {
        "id": "Qe1K_FbAa2aE"
      }
    },
    {
      "cell_type": "code",
      "source": [
        "num = int(input(\"Enter a number: \"))\n",
        "sum = 0\n",
        "while num > 0:\n",
        "  end = num % 10\n",
        "  sum = sum + end\n",
        "  num = num // 10\n",
        "print(f\"The total sum of digits is: {sum}\")\n"
      ],
      "metadata": {
        "id": "pwmZLvaya6lz",
        "outputId": "a03d833d-62d8-41bc-a56d-549c4f7f3138",
        "colab": {
          "base_uri": "https://localhost:8080/"
        }
      },
      "execution_count": null,
      "outputs": [
        {
          "output_type": "stream",
          "name": "stdout",
          "text": [
            "Enter a number: 14568\n",
            "The total sum of digits is: 24\n"
          ]
        }
      ]
    },
    {
      "cell_type": "markdown",
      "source": [
        "#15: Count vowels in a text"
      ],
      "metadata": {
        "id": "rhg3rqGvf_cO"
      }
    },
    {
      "cell_type": "code",
      "source": [
        "text = input(\"Enter a word: \")\n",
        "vowels =['a','e','i','o','u']\n",
        "text = text.lower()\n",
        "vowel_count = {}\n",
        "for char in text:\n",
        "  if char in vowels:\n",
        "    if char in vowel_count:\n",
        "      vowel_count[char] += 1\n",
        "    else:\n",
        "      vowel_count[char] = 1\n",
        "for char,count in vowel_count.items():\n",
        "  print(f\"{char} : {count}\")"
      ],
      "metadata": {
        "id": "XMWBkFOPgCl9",
        "outputId": "d33f3c7f-e9ba-4e86-e604-820c5c609746",
        "colab": {
          "base_uri": "https://localhost:8080/"
        }
      },
      "execution_count": null,
      "outputs": [
        {
          "output_type": "stream",
          "name": "stdout",
          "text": [
            "Enter a word: education\n",
            "e : 1\n",
            "u : 1\n",
            "a : 1\n",
            "i : 1\n",
            "o : 1\n"
          ]
        }
      ]
    },
    {
      "cell_type": "markdown",
      "source": [
        "#16. Find the greatest common divisor (GCD)"
      ],
      "metadata": {
        "id": "nORcZ7b0wq-d"
      }
    },
    {
      "cell_type": "code",
      "source": [
        "import math\n",
        "\n",
        "first_num = int(input(\"Enter a number: \"))\n",
        "second_num = int(input(\"Enter second num: \"))\n",
        "\n",
        "gcd = math.gcd(first_num,second_num)\n",
        "print(f\"gcd is : {gcd}\")"
      ],
      "metadata": {
        "colab": {
          "base_uri": "https://localhost:8080/"
        },
        "id": "CV2nB4vLwuok",
        "outputId": "892b2c86-81e9-40c3-e8e9-94839e9e1ad7"
      },
      "execution_count": null,
      "outputs": [
        {
          "output_type": "stream",
          "name": "stdout",
          "text": [
            "Enter a number: 96\n",
            "Enter second num: 84\n",
            "gcd is : 12\n"
          ]
        }
      ]
    },
    {
      "cell_type": "markdown",
      "source": [
        "#17. Find the least common multiple (LCM)"
      ],
      "metadata": {
        "id": "G7NVK5-HzZqL"
      }
    },
    {
      "cell_type": "code",
      "source": [
        "import math\n",
        "\n",
        "first_num = int(input(\"Enter a number: \"))\n",
        "second_num = int(input(\"Enter second num: \"))\n",
        "\n",
        "lcm = math.lcm(first_num,second_num)\n",
        "print(lcm)"
      ],
      "metadata": {
        "colab": {
          "base_uri": "https://localhost:8080/"
        },
        "id": "iHIk8ysdzc9Q",
        "outputId": "5dddd35e-979a-498f-dda7-9fc570412e34"
      },
      "execution_count": null,
      "outputs": [
        {
          "output_type": "stream",
          "name": "stdout",
          "text": [
            "Enter a number: 12\n",
            "Enter second num: 18\n",
            "36\n"
          ]
        }
      ]
    },
    {
      "cell_type": "markdown",
      "source": [
        "#18. Convert decimal to binary"
      ],
      "metadata": {
        "id": "jmN_O69jz3r7"
      }
    },
    {
      "cell_type": "code",
      "source": [
        "number = int(input(\"Enter a number: \"))\n",
        "binary_list = []\n",
        "while number > 0:\n",
        "  remainder = number % 2\n",
        "  binary_list.append(remainder)\n",
        "  number = number // 2\n",
        "print(binary_list)\n",
        "reversed_list = binary_list[::-1]\n",
        "print(reversed_list)\n",
        "\n",
        "for i in reversed_list:\n",
        "  print(i,end=\"\")"
      ],
      "metadata": {
        "colab": {
          "base_uri": "https://localhost:8080/"
        },
        "id": "q484errpz54Z",
        "outputId": "8073c45c-d163-4ba5-ac78-5684abc05c83"
      },
      "execution_count": null,
      "outputs": [
        {
          "output_type": "stream",
          "name": "stdout",
          "text": [
            "Enter a number: 13\n",
            "[1, 0, 1, 1]\n",
            "[1, 1, 0, 1]\n",
            "1101"
          ]
        }
      ]
    },
    {
      "cell_type": "markdown",
      "source": [
        "#19. Convert binary to decimal"
      ],
      "metadata": {
        "id": "3MhbYAC5FQco"
      }
    },
    {
      "cell_type": "code",
      "source": [
        "binary = int(input(\"Enter binary number: \"))\n",
        "\n",
        "binary_list = []\n",
        "\n",
        "while binary > 0:\n",
        "  end = binary % 10\n",
        "  binary_list.append(end)\n",
        "  binary = binary // 10\n",
        "\n",
        "total = 0\n",
        "for i,num in enumerate(binary_list):\n",
        "  total = total + num*(2**(i))\n",
        "\n",
        "print(total)\n",
        "\n"
      ],
      "metadata": {
        "colab": {
          "base_uri": "https://localhost:8080/"
        },
        "id": "dYznalS4FUXY",
        "outputId": "0fd34440-93ef-4814-825d-615ccab152be"
      },
      "execution_count": null,
      "outputs": [
        {
          "output_type": "stream",
          "name": "stdout",
          "text": [
            "Enter binary number: 11001\n",
            "25\n"
          ]
        }
      ]
    },
    {
      "cell_type": "markdown",
      "source": [
        "#20. Remove duplicates from a list"
      ],
      "metadata": {
        "id": "fdajCCvnNJ86"
      }
    },
    {
      "cell_type": "code",
      "source": [
        "my_list = [1,2,3,4,4,5,6]\n",
        "#unique_list = list(set(my_list))\n",
        "#print(unique_list)\n",
        "\n",
        "unique = []\n",
        "\n",
        "for num in my_list:\n",
        "  if num in unique:\n",
        "    continue\n",
        "  else:\n",
        "    unique.append(num)\n",
        "\n",
        "print(unique)"
      ],
      "metadata": {
        "colab": {
          "base_uri": "https://localhost:8080/"
        },
        "id": "SWh4z3MHNN1g",
        "outputId": "fa9ae79a-7808-418d-a178-dd9aef1313d6"
      },
      "execution_count": null,
      "outputs": [
        {
          "output_type": "stream",
          "name": "stdout",
          "text": [
            "[1, 2, 3, 4, 5, 6]\n"
          ]
        }
      ]
    },
    {
      "cell_type": "markdown",
      "source": [
        "#21. Merge two sorted lists."
      ],
      "metadata": {
        "id": "MX9l_CKWSLpR"
      }
    },
    {
      "cell_type": "code",
      "source": [
        "list1 = [5,6,7,8,2,3]\n",
        "list2 = [10,2,5,6,1,8]\n",
        "sorted_list1 = sorted(list1)\n",
        "sorted_list2 = sorted(list2)\n",
        "merged_list = sorted_list1 + sorted_list2\n",
        "merged_list = sorted(merged_list)\n",
        "print(merged_list)\n",
        "no_dup = list(set(merged_list))\n",
        "print(no_dup)"
      ],
      "metadata": {
        "colab": {
          "base_uri": "https://localhost:8080/"
        },
        "id": "NnRVA6M9SOPa",
        "outputId": "a55184dc-1250-4960-e2b7-9a8c2cacef46"
      },
      "execution_count": 3,
      "outputs": [
        {
          "output_type": "stream",
          "name": "stdout",
          "text": [
            "[1, 2, 2, 3, 5, 5, 6, 6, 7, 8, 8, 10]\n",
            "[1, 2, 3, 5, 6, 7, 8, 10]\n"
          ]
        }
      ]
    },
    {
      "cell_type": "markdown",
      "source": [
        "#22. Find the intersection of two lists."
      ],
      "metadata": {
        "id": "c49WzwZXUR1J"
      }
    },
    {
      "cell_type": "code",
      "source": [
        "list1 = [5,6,7,8,2,3]\n",
        "list2 = [10,2,5,6,1,13]\n",
        "intersection = []\n",
        "for i in list1:\n",
        "  for j in list2:\n",
        "    if i == j:\n",
        "      intersection.append(i)\n",
        "\n",
        "for i in intersection:\n",
        "  print(i,end=\" \")\n",
        ""
      ],
      "metadata": {
        "colab": {
          "base_uri": "https://localhost:8080/"
        },
        "id": "vLIcJERlUUVP",
        "outputId": "4f3a480c-b143-4308-bb77-604d79935f7e"
      },
      "execution_count": 4,
      "outputs": [
        {
          "output_type": "stream",
          "name": "stdout",
          "text": [
            "5 6 2 "
          ]
        }
      ]
    },
    {
      "cell_type": "markdown",
      "source": [
        "#23. Find the union of two lists."
      ],
      "metadata": {
        "id": "6re82gEwUunv"
      }
    },
    {
      "cell_type": "code",
      "source": [
        "list1 = [5,6,7,8,2,3]\n",
        "list2 = [10,2,5,6,1,13]\n",
        "union = sorted(set(list1).union(list2))\n",
        "\n",
        "\n",
        "print(union)"
      ],
      "metadata": {
        "colab": {
          "base_uri": "https://localhost:8080/"
        },
        "id": "DrSxDIR7U0PW",
        "outputId": "1b11ed55-4980-4eb2-d4e8-98232a66baf8"
      },
      "execution_count": 12,
      "outputs": [
        {
          "output_type": "stream",
          "name": "stdout",
          "text": [
            "[1, 2, 3, 5, 6, 7, 8, 10, 13]\n"
          ]
        }
      ]
    },
    {
      "cell_type": "markdown",
      "source": [
        "#24. Check if a list is sorted."
      ],
      "metadata": {
        "id": "ZOw6i5uQXD7Q"
      }
    },
    {
      "cell_type": "code",
      "source": [
        "list1 = [5,6,7,8,2,3]\n",
        "\n",
        "for i in range(len(list1)-1):\n",
        "  if list1[i] > list1[i+1]:\n",
        "    print(\"List is not sorted\")\n",
        "    break\n",
        "else:\n",
        "  print(\"List is sorted\")\n",
        "\n",
        "if list1 == sorted(list1):\n",
        "  print(\"List is sorted\")\n",
        "else:\n",
        "  print(\"List is not sorted\")\n",
        ""
      ],
      "metadata": {
        "colab": {
          "base_uri": "https://localhost:8080/"
        },
        "id": "HoeCw4EdXF9n",
        "outputId": "c0264151-2bbf-4829-f28b-de68d8aa5a65"
      },
      "execution_count": 17,
      "outputs": [
        {
          "output_type": "stream",
          "name": "stdout",
          "text": [
            "List is not sorted\n",
            "List is not sorted\n"
          ]
        }
      ]
    },
    {
      "cell_type": "markdown",
      "source": [
        "#25. Reverse a list without using slicing."
      ],
      "metadata": {
        "id": "yPzUGXu6Zgns"
      }
    },
    {
      "cell_type": "code",
      "source": [
        "list1 = [5,6,7,8,5,2,3]\n",
        "reversed_list = []\n",
        "for i in range(len(list1)-1,-1,-1):\n",
        "  reversed_list.append(list1[i])\n",
        "print(reversed_list)"
      ],
      "metadata": {
        "colab": {
          "base_uri": "https://localhost:8080/"
        },
        "id": "lYY3AbsVZkFM",
        "outputId": "fd0fc062-ebcc-4d14-ce08-09aea6b16061"
      },
      "execution_count": 23,
      "outputs": [
        {
          "output_type": "stream",
          "name": "stdout",
          "text": [
            "[3, 2, 5, 8, 7, 6, 5]\n"
          ]
        }
      ]
    }
  ]
}