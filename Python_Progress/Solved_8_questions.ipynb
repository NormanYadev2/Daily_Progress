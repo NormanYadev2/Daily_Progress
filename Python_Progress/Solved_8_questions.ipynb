{
  "nbformat": 4,
  "nbformat_minor": 0,
  "metadata": {
    "colab": {
      "provenance": []
    },
    "kernelspec": {
      "name": "python3",
      "display_name": "Python 3"
    },
    "language_info": {
      "name": "python"
    }
  },
  "cells": [
    {
      "cell_type": "markdown",
      "source": [
        "#Reverse a string\n"
      ],
      "metadata": {
        "id": "bFCHAGXNpMgM"
      }
    },
    {
      "cell_type": "code",
      "source": [
        "text = input(\"Enter a word: \")\n",
        "print(\"\".join(reversed(text)))\n",
        "\n",
        "print(text[::-1])\n",
        "\n",
        "for i in range(len(text)-1,-1,-1):\n",
        "  print(text[i],end=\"\")\n",
        "\n",
        "print()\n",
        "reversed_text = \"\"\n",
        "for char in text:\n",
        "  reversed_text = char +reversed_text\n",
        "print(reversed_text)"
      ],
      "metadata": {
        "colab": {
          "base_uri": "https://localhost:8080/"
        },
        "id": "ehvQ7a0WpSJ7",
        "outputId": "771054e7-04c8-4fa3-ac59-d04a19342a3e"
      },
      "execution_count": 19,
      "outputs": [
        {
          "output_type": "stream",
          "name": "stdout",
          "text": [
            "Enter a word: hello\n",
            "olleh\n",
            "olleh\n",
            "olleh\n",
            "olleh\n"
          ]
        }
      ]
    },
    {
      "cell_type": "markdown",
      "source": [
        "#Check if a string is a palindrome."
      ],
      "metadata": {
        "id": "HTfKWsudy9n-"
      }
    },
    {
      "cell_type": "code",
      "source": [
        "text = input(\"Enter a text: \")\n",
        "text = text.lower()\n",
        "if text[::-1] == text[::1]:\n",
        "  print(\"It is a palindrome\")\n",
        "else:\n",
        "  print(\"Not a palindrome\")"
      ],
      "metadata": {
        "colab": {
          "base_uri": "https://localhost:8080/"
        },
        "id": "tafkl4tIzBPE",
        "outputId": "65881a2e-8b8c-461d-97a9-539b6a400d33"
      },
      "execution_count": 29,
      "outputs": [
        {
          "output_type": "stream",
          "name": "stdout",
          "text": [
            "Enter a text: heH\n",
            "It is a palindrome\n"
          ]
        }
      ]
    },
    {
      "cell_type": "markdown",
      "source": [
        "#Check if a number is a Palindrome\n"
      ],
      "metadata": {
        "id": "yxicVLpW32CK"
      }
    },
    {
      "cell_type": "code",
      "source": [
        "num = int(input(\"Enter a number: \"))\n",
        "if str(num) == str(num)[::-1]:\n",
        "  print(\"It is a palindrome\")\n",
        "else:\n",
        "  print(\"It is not a palindrome\")\n",
        "\n"
      ],
      "metadata": {
        "colab": {
          "base_uri": "https://localhost:8080/"
        },
        "id": "4BjHLmvX36Wo",
        "outputId": "5286399a-f7ef-4897-e854-2967a5b852b0"
      },
      "execution_count": 32,
      "outputs": [
        {
          "output_type": "stream",
          "name": "stdout",
          "text": [
            "Enter a number: 22\n",
            "It is a palindrome\n"
          ]
        }
      ]
    },
    {
      "cell_type": "markdown",
      "source": [
        "#Check if a number is a Palindrome without converting to string"
      ],
      "metadata": {
        "id": "s2481fSZHwIn"
      }
    },
    {
      "cell_type": "code",
      "source": [
        "num = int(input(\"Enter a number: \"))\n",
        "temp = num\n",
        "reversed_num = 0\n",
        "while temp > 0:\n",
        "  end = temp % 10\n",
        "  reversed_num = reversed_num * 10 +end\n",
        "  temp = temp //10\n",
        "\n",
        "if num == reversed_num:\n",
        "  print(\"Palindrome\")\n",
        "else:\n",
        "  print(\"Not a plaindrome\")"
      ],
      "metadata": {
        "colab": {
          "base_uri": "https://localhost:8080/"
        },
        "id": "EtR3QSthH05V",
        "outputId": "f5989301-83b2-431c-aa39-7f348a60544f"
      },
      "execution_count": 37,
      "outputs": [
        {
          "output_type": "stream",
          "name": "stdout",
          "text": [
            "Enter a number: 1441\n",
            "Palindrome\n"
          ]
        }
      ]
    },
    {
      "cell_type": "markdown",
      "source": [
        "#Count the frequency of each word in a sentence."
      ],
      "metadata": {
        "id": "gzser7I5crbs"
      }
    },
    {
      "cell_type": "code",
      "source": [
        "sentence = input(\"Enter a sentence: \")\n",
        "\n",
        "word_count = {}\n",
        "sentence = sentence.split(\" \")\n",
        "for word in sentence:\n",
        "  if word in word_count:\n",
        "    word_count[word] += 1\n",
        "  else:\n",
        "    word_count[word] = 1\n",
        "\n",
        "for word,count in word_count.items():\n",
        "  print(f\"{word}:{count}\")\n",
        "\n",
        "\n"
      ],
      "metadata": {
        "colab": {
          "base_uri": "https://localhost:8080/"
        },
        "id": "W53Npmc0csY0",
        "outputId": "2d0929a2-dcda-4006-ca32-0d8c439a0bc3"
      },
      "execution_count": 42,
      "outputs": [
        {
          "output_type": "stream",
          "name": "stdout",
          "text": [
            "Enter a sentence: hello im yadev hello\n",
            "hello:2\n",
            "im:1\n",
            "yadev:1\n"
          ]
        }
      ]
    },
    {
      "cell_type": "markdown",
      "source": [
        "#FInd the largest and second largest number in a list"
      ],
      "metadata": {
        "id": "P8KRacTIqQv2"
      }
    },
    {
      "cell_type": "code",
      "source": [
        "my_list = [1,2,5,4,3,7,2,9,1]\n",
        "largest = max(my_list)\n",
        "print(f\"Largest number in the list: {largest}\")\n",
        "my_list.remove(largest)\n",
        "second_largest = max(my_list)\n",
        "print(f\"Second Largest number in the list: {second_largest}\")\n",
        "\n",
        "\n"
      ],
      "metadata": {
        "colab": {
          "base_uri": "https://localhost:8080/"
        },
        "id": "aUVbGhWdqUtI",
        "outputId": "279e062a-2d54-4aad-a60e-646ee0e619b2"
      },
      "execution_count": 51,
      "outputs": [
        {
          "output_type": "stream",
          "name": "stdout",
          "text": [
            "Largest number in the list: 9\n",
            "Second Largest number in the list: 7\n"
          ]
        }
      ]
    },
    {
      "cell_type": "markdown",
      "source": [
        "## Sorting to find the above question"
      ],
      "metadata": {
        "id": "-HIhMLPlwI4q"
      }
    },
    {
      "cell_type": "code",
      "source": [
        "my_list = [1,2,5,4,3,7,2,9,1]\n",
        "sorted_list = sorted(my_list,reverse=True)\n",
        "largest_num = sorted_list[0]\n",
        "if len(sorted_list) >= 2:\n",
        "  second_largest = sorted_list[1]\n",
        "else:\n",
        "  print(\"List has only 1 value\")\n",
        "print(f\"Largest num is: {largest_num}\\nSecond Largest num is: {second_largest}\")"
      ],
      "metadata": {
        "colab": {
          "base_uri": "https://localhost:8080/"
        },
        "id": "tvl4w2dqwNJN",
        "outputId": "8bc54958-45b3-405d-e3ce-9c6fd7988391"
      },
      "execution_count": 53,
      "outputs": [
        {
          "output_type": "stream",
          "name": "stdout",
          "text": [
            "Largest num is: 9\n",
            "Second Largest num is: 7\n"
          ]
        }
      ]
    },
    {
      "cell_type": "markdown",
      "source": [
        "## Using Loop"
      ],
      "metadata": {
        "id": "-VUiLJBqzAVf"
      }
    },
    {
      "cell_type": "code",
      "source": [
        "my_list = [1,2,5,4,3,7,2,9,1]\n",
        "largest = float('-inf')\n",
        "second_largest = float('-inf')\n",
        "for num in my_list:\n",
        "  if num> largest:\n",
        "    second_largest = largest\n",
        "    largest = num\n",
        "  elif num>second_largest and num < largest:\n",
        "    second_largest = num\n",
        "\n",
        "print(f\"largest: {largest}\\nsecond_largest: {second_largest}\")\n"
      ],
      "metadata": {
        "colab": {
          "base_uri": "https://localhost:8080/"
        },
        "id": "IfvWr0L8zDVW",
        "outputId": "bb5f4201-c4f9-46ae-998c-0281e3198505"
      },
      "execution_count": 54,
      "outputs": [
        {
          "output_type": "stream",
          "name": "stdout",
          "text": [
            "largest: 9\n",
            "second_largest: 7\n"
          ]
        }
      ]
    }
  ]
}